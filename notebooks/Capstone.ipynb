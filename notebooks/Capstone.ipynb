{
 "cells": [
  {
   "cell_type": "markdown",
   "id": "263bf361-66c1-4e1b-a32c-75e532135930",
   "metadata": {},
   "source": [
    "### How would the annual performance reports of honey bees compare to the annual reports released by Bumble? What are the relative strengths and weaknesses of each entity and what opportunities and risks should potential stakeholders be aware of? \n",
    "#### Key Metrics (annually and 3 year average)\n",
    "    Revenue\n",
    "\tRevenue per paying user (maybe)\n",
    "\tNet earnings\n",
    "    Ebitda/ Annual Profit margin/ Contribution Margin (as a percent)\n",
    "\tMain areas of financial loss\n",
    "#### Other Questions\n",
    "-How would queen bees be compensated if they were paid on similar scale to bumble CEOs (ceo comp data is in bumble proxy report)\n",
    "\n",
    "-How much are the relative workforce costs?\n",
    "\n",
    "-Can we track any seasonality trend (seasonality data is reported in bumble annual report)"
   ]
  },
  {
   "cell_type": "code",
   "execution_count": null,
   "id": "dca0b89e-9b68-4b9d-b59d-16966e19e698",
   "metadata": {},
   "outputs": [],
   "source": [
    "#Library setup\n",
    "import pandas as pd\n",
    "import matplotlib.pyplot as plt\n",
    "import seaborn as sns\n",
    "import locale\n",
    "locale.setlocale(locale.LC_NUMERIC, 'en_US.UTF-8')"
   ]
  },
  {
   "cell_type": "markdown",
   "id": "a5ed1b4a-4559-434e-a486-e91a12dfde6d",
   "metadata": {},
   "source": [
    "#### Bumble Inc Metrics"
   ]
  },
  {
   "cell_type": "code",
   "execution_count": null,
   "id": "3dff68be-b245-40a2-af00-f0905df83b46",
   "metadata": {},
   "outputs": [],
   "source": [
    "#Read in and clean annual report\n",
    "bb_op_costs23 = pd.read_csv('../data/23operating_costs.csv')\n",
    "bb_op_costs = bb_op_costs23.rename(columns = {'in_thousands': 'metric_in_thousands', 'ye_2023': '2023', 'ye_2022': '2022', 'ye_2021': '2021'})\n",
    "bb_op_costs = bb_op_costs.set_index('metric_in_thousands').transpose()\n",
    "bb_op_costs.reset_index()\n",
    "bb_op_costs.reset_index().rename(columns={'index': 'Year'})\n"
   ]
  },
  {
   "cell_type": "code",
   "execution_count": null,
   "id": "b72fa72a-5c30-4f7f-bc17-65d0a6f5098e",
   "metadata": {},
   "outputs": [],
   "source": [
    "#Format revenue values with local to remove commas and cast as float\n",
    "bb_op_costs['Revenue'] = bb_op_costs['Revenue'].astype(str)\n",
    "rev_list = []\n",
    "for value in bb_op_costs['Revenue']:\n",
    "    rev_list.append(locale.atof(value))\n",
    "bb_op_costs['Revenue'] = rev_list"
   ]
  },
  {
   "cell_type": "code",
   "execution_count": null,
   "id": "efd49464-aaf8-48db-b6ea-5e3235d3cda2",
   "metadata": {},
   "outputs": [],
   "source": [
    "#3yr average Revenue\n",
    "rev_3yr_avg = bb_op_costs['Revenue'].mean()\n",
    "bb_op_costs.columns\n"
   ]
  },
  {
   "cell_type": "code",
   "execution_count": null,
   "id": "c74d8080-e587-4376-afeb-390967134e14",
   "metadata": {},
   "outputs": [],
   "source": []
  }
 ],
 "metadata": {
  "kernelspec": {
   "display_name": "Python 3 (ipykernel)",
   "language": "python",
   "name": "python3"
  },
  "language_info": {
   "codemirror_mode": {
    "name": "ipython",
    "version": 3
   },
   "file_extension": ".py",
   "mimetype": "text/x-python",
   "name": "python",
   "nbconvert_exporter": "python",
   "pygments_lexer": "ipython3",
   "version": "3.12.4"
  }
 },
 "nbformat": 4,
 "nbformat_minor": 5
}
