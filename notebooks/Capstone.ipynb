{
 "cells": [
  {
   "cell_type": "markdown",
   "id": "263bf361-66c1-4e1b-a32c-75e532135930",
   "metadata": {},
   "source": [
    "### How would the annual performance reports of honey bees compare to the annual reports released by Bumble? What are the relative strengths and weaknesses of each entity and what opportunities and risks should potential stakeholders be aware of? \n",
    "#### Key Metrics (annually and 3 year average)\n",
    "-Revenue\n",
    "-Gross Profit Margin (revenue - COGS)\n",
    "#### Other Questions\n",
    "-Which entity appears more stable over the measured period?\n",
    "-How does each entity diversify revenue streams? What percentage of total revenue does each revenue stream make up?\n",
    "-What are the highest costs?\n",
    "-How would queen bees be compensated if they were paid on similar scale to bumble CEOs (ceo comp data is in bumble proxy report)"
   ]
  },
  {
   "cell_type": "code",
   "execution_count": 2,
   "id": "dca0b89e-9b68-4b9d-b59d-16966e19e698",
   "metadata": {},
   "outputs": [
    {
     "data": {
      "text/plain": [
       "'en_US.UTF-8'"
      ]
     },
     "execution_count": 2,
     "metadata": {},
     "output_type": "execute_result"
    }
   ],
   "source": [
    "#Library setup\n",
    "import pandas as pd\n",
    "import matplotlib.pyplot as plt\n",
    "import seaborn as sns\n",
    "import locale\n",
    "locale.setlocale(locale.LC_NUMERIC, 'en_US.UTF-8')\n"
   ]
  },
  {
   "cell_type": "markdown",
   "id": "a5ed1b4a-4559-434e-a486-e91a12dfde6d",
   "metadata": {},
   "source": [
    "### Bumble Inc Metrics"
   ]
  },
  {
   "cell_type": "code",
   "execution_count": 4,
   "id": "3dff68be-b245-40a2-af00-f0905df83b46",
   "metadata": {},
   "outputs": [],
   "source": [
    "#Read in and clean annual report\n",
    "bb_op_costs23 = pd.read_csv('../data/23operating_costs.csv')\n",
    "bb_op_costs = bb_op_costs23.rename(columns = {'in_thousands': 'metric_in_thousands', 'ye_2023': '2023', 'ye_2022': '2022', 'ye_2021': '2021'})\n",
    "bb_op_costs = bb_op_costs.set_index('metric_in_thousands').transpose()\n",
    "bb_op_costs = bb_op_costs.reset_index()\n",
    "bb_op_costs = bb_op_costs.reset_index(drop = True).rename(columns={'index': 'Year'})\n",
    "bb_op_costs['Year'] = bb_op_costs['Year'].astype(int)\n"
   ]
  },
  {
   "cell_type": "markdown",
   "id": "824f8bef-4473-4133-a1a1-c4d8812cf9e5",
   "metadata": {},
   "source": [
    "##### Revenue"
   ]
  },
  {
   "cell_type": "code",
   "execution_count": 6,
   "id": "b72fa72a-5c30-4f7f-bc17-65d0a6f5098e",
   "metadata": {},
   "outputs": [],
   "source": [
    "#Format revenue values with locale to remove commas and cast as float\n",
    "bb_op_costs['Revenue'] = bb_op_costs['Revenue'].astype(str)\n",
    "rev_list = []\n",
    "for value in bb_op_costs['Revenue']:\n",
    "    rev_list.append(locale.atof(value))\n",
    "bb_op_costs['Revenue'] = rev_list"
   ]
  },
  {
   "cell_type": "code",
   "execution_count": 7,
   "id": "efd49464-aaf8-48db-b6ea-5e3235d3cda2",
   "metadata": {},
   "outputs": [],
   "source": [
    "#Revenue: 3yr Average and Year-over-Year\n",
    "rev_3yr_avg = bb_op_costs['Revenue'].mean()\n",
    "rev_yoy = bb_op_costs[['Year','Revenue']]\n"
   ]
  },
  {
   "cell_type": "markdown",
   "id": "0f1fd2b6-7878-4c01-9826-8193b531942b",
   "metadata": {},
   "source": [
    "##### Gross Margin"
   ]
  },
  {
   "cell_type": "code",
   "execution_count": 9,
   "id": "e6452d25-8dd3-4969-8b77-9e4bcdb4a742",
   "metadata": {},
   "outputs": [],
   "source": [
    "#Format total operating costs and expenses with locale to remove commas and cast as float\n",
    "bb_op_costs['Totaloperatingcostsandexpenses'] = bb_op_costs['Totaloperatingcostsandexpenses'].astype(str)\n",
    "topce_list = []\n",
    "for value in bb_op_costs['Totaloperatingcostsandexpenses']:\n",
    "    topce_list.append(locale.atof(value))\n",
    "bb_op_costs['Totaloperatingcostsandexpenses'] = topce_list"
   ]
  },
  {
   "cell_type": "code",
   "execution_count": 10,
   "id": "fba65783-5bd8-4f0d-af6a-32a8d85c77fb",
   "metadata": {},
   "outputs": [],
   "source": [
    "#Format depreciation and amortization expenses with locale to remove commas and cast as float\n",
    "bb_op_costs['Depreciationandamortizationexpense'] = bb_op_costs['Depreciationandamortizationexpense'].astype(str)\n",
    "daa_list = []\n",
    "for value in bb_op_costs['Depreciationandamortizationexpense']:\n",
    "    daa_list.append(locale.atof(value))\n",
    "bb_op_costs['Depreciationandamortizationexpense'] = daa_list"
   ]
  },
  {
   "cell_type": "code",
   "execution_count": 11,
   "id": "c74d8080-e587-4376-afeb-390967134e14",
   "metadata": {},
   "outputs": [
    {
     "data": {
      "text/html": [
       "<div>\n",
       "<style scoped>\n",
       "    .dataframe tbody tr th:only-of-type {\n",
       "        vertical-align: middle;\n",
       "    }\n",
       "\n",
       "    .dataframe tbody tr th {\n",
       "        vertical-align: top;\n",
       "    }\n",
       "\n",
       "    .dataframe thead th {\n",
       "        text-align: right;\n",
       "    }\n",
       "</style>\n",
       "<table border=\"1\" class=\"dataframe\">\n",
       "  <thead>\n",
       "    <tr style=\"text-align: right;\">\n",
       "      <th>metric_in_thousands</th>\n",
       "      <th>Year</th>\n",
       "      <th>Revenue</th>\n",
       "      <th>Costofrevenue</th>\n",
       "      <th>Sellingandmarketingexpense</th>\n",
       "      <th>Generalandadministrativeexpense</th>\n",
       "      <th>Productdevelopmentexpense</th>\n",
       "      <th>Depreciationandamortizationexpense</th>\n",
       "      <th>Totaloperatingcostsandexpenses</th>\n",
       "      <th>Operatingearnings(loss)</th>\n",
       "      <th>Interestincome(expense),net</th>\n",
       "      <th>Otherincome(expense),net</th>\n",
       "      <th>Income(loss)beforeincometax</th>\n",
       "      <th>Incometaxbenefit(provision)</th>\n",
       "      <th>Netearnings(loss)</th>\n",
       "      <th>Netearnings(loss)attributabletononcontrollinginterests</th>\n",
       "      <th>Netearnings(loss)attributabletoBumbleInc.shareholders</th>\n",
       "      <th>Ebitda_Earnings</th>\n",
       "      <th>Ebitda_Margin</th>\n",
       "    </tr>\n",
       "  </thead>\n",
       "  <tbody>\n",
       "    <tr>\n",
       "      <th>0</th>\n",
       "      <td>2023</td>\n",
       "      <td>1051830.0</td>\n",
       "      <td>307835</td>\n",
       "      <td>270380</td>\n",
       "      <td>221649</td>\n",
       "      <td>130565</td>\n",
       "      <td>68028.0</td>\n",
       "      <td>998457.0</td>\n",
       "      <td>53373</td>\n",
       "      <td>-21534</td>\n",
       "      <td>-26537</td>\n",
       "      <td>5302</td>\n",
       "      <td>-7170</td>\n",
       "      <td>-1868</td>\n",
       "      <td>2345</td>\n",
       "      <td>-4213</td>\n",
       "      <td>121401.0</td>\n",
       "      <td>12.0</td>\n",
       "    </tr>\n",
       "    <tr>\n",
       "      <th>1</th>\n",
       "      <td>2022</td>\n",
       "      <td>903503.0</td>\n",
       "      <td>249,490</td>\n",
       "      <td>249,269</td>\n",
       "      <td>308,855</td>\n",
       "      <td>109,020</td>\n",
       "      <td>89713.0</td>\n",
       "      <td>1006347.0</td>\n",
       "      <td>-102844</td>\n",
       "      <td>-24,063</td>\n",
       "      <td>16189</td>\n",
       "      <td>-110718</td>\n",
       "      <td>-3406</td>\n",
       "      <td>-114124</td>\n",
       "      <td>-34378</td>\n",
       "      <td>-79746</td>\n",
       "      <td>-13131.0</td>\n",
       "      <td>-1.0</td>\n",
       "    </tr>\n",
       "    <tr>\n",
       "      <th>2</th>\n",
       "      <td>2021</td>\n",
       "      <td>760910.0</td>\n",
       "      <td>205,573</td>\n",
       "      <td>211,711</td>\n",
       "      <td>257,489</td>\n",
       "      <td>113,764</td>\n",
       "      <td>107056.0</td>\n",
       "      <td>895593.0</td>\n",
       "      <td>(134,683</td>\n",
       "      <td>-24,574</td>\n",
       "      <td>3,160</td>\n",
       "      <td>-156097</td>\n",
       "      <td>437,837</td>\n",
       "      <td>281,740</td>\n",
       "      <td>-28075</td>\n",
       "      <td>309,815</td>\n",
       "      <td>-27627.0</td>\n",
       "      <td>-4.0</td>\n",
       "    </tr>\n",
       "  </tbody>\n",
       "</table>\n",
       "</div>"
      ],
      "text/plain": [
       "metric_in_thousands  Year    Revenue Costofrevenue Sellingandmarketingexpense  \\\n",
       "0                    2023  1051830.0        307835                     270380   \n",
       "1                    2022   903503.0       249,490                    249,269   \n",
       "2                    2021   760910.0       205,573                    211,711   \n",
       "\n",
       "metric_in_thousands Generalandadministrativeexpense Productdevelopmentexpense  \\\n",
       "0                                            221649                    130565   \n",
       "1                                           308,855                   109,020   \n",
       "2                                           257,489                   113,764   \n",
       "\n",
       "metric_in_thousands  Depreciationandamortizationexpense  \\\n",
       "0                                               68028.0   \n",
       "1                                               89713.0   \n",
       "2                                              107056.0   \n",
       "\n",
       "metric_in_thousands  Totaloperatingcostsandexpenses Operatingearnings(loss)  \\\n",
       "0                                          998457.0                   53373   \n",
       "1                                         1006347.0                 -102844   \n",
       "2                                          895593.0                (134,683   \n",
       "\n",
       "metric_in_thousands Interestincome(expense),net Otherincome(expense),net  \\\n",
       "0                                        -21534                   -26537   \n",
       "1                                       -24,063                    16189   \n",
       "2                                       -24,574                    3,160   \n",
       "\n",
       "metric_in_thousands Income(loss)beforeincometax Incometaxbenefit(provision)  \\\n",
       "0                                          5302                       -7170   \n",
       "1                                       -110718                       -3406   \n",
       "2                                       -156097                     437,837   \n",
       "\n",
       "metric_in_thousands Netearnings(loss)  \\\n",
       "0                               -1868   \n",
       "1                             -114124   \n",
       "2                             281,740   \n",
       "\n",
       "metric_in_thousands Netearnings(loss)attributabletononcontrollinginterests  \\\n",
       "0                                                                 2345       \n",
       "1                                                               -34378       \n",
       "2                                                               -28075       \n",
       "\n",
       "metric_in_thousands Netearnings(loss)attributabletoBumbleInc.shareholders  \\\n",
       "0                                                                -4213      \n",
       "1                                                               -79746      \n",
       "2                                                              309,815      \n",
       "\n",
       "metric_in_thousands  Ebitda_Earnings  Ebitda_Margin  \n",
       "0                           121401.0           12.0  \n",
       "1                           -13131.0           -1.0  \n",
       "2                           -27627.0           -4.0  "
      ]
     },
     "execution_count": 11,
     "metadata": {},
     "output_type": "execute_result"
    }
   ],
   "source": [
    "#Ebitda: 3yr Average and Year-over-Year\n",
    "bb_op_costs['Ebitda_Earnings'] = bb_op_costs['Revenue'] - bb_op_costs['Totaloperatingcostsandexpenses'] + bb_op_costs['Depreciationandamortizationexpense']\n",
    "ebitda_3yr_avg = bb_op_costs['Ebitda_Earnings'].mean()\n",
    "ebitda_yoy = bb_op_costs[['Year','Ebitda_Earnings']]\n",
    "\n",
    "#Ebitda Margin: 3yr Average and Year-over-Year\n",
    "bb_op_costs['Ebitda_Margin'] = ((bb_op_costs['Ebitda_Earnings']/bb_op_costs['Revenue'])*100).round(0)\n",
    "ebitda_margin_3yr_avg = (((bb_op_costs['Ebitda_Earnings'].sum())/(bb_op_costs['Revenue'].sum()))*100).round(0) #is this the best way to calculate this?\n",
    "ebitda_margin_yoy = bb_op_costs[['Year','Ebitda_Margin']]\n",
    "bb_op_costs\n"
   ]
  },
  {
   "cell_type": "code",
   "execution_count": 12,
   "id": "25cd402c-bf12-43e8-8c59-ad467234ac51",
   "metadata": {},
   "outputs": [],
   "source": [
    "#Sandbox - adjusting business expensese to more fairly align with bee expenses\n",
    "bb_op_costs['Generalandadministrativeexpense'] = bb_op_costs['Generalandadministrativeexpense'].astype(str)\n",
    "gae_list = []\n",
    "for value in bb_op_costs['Generalandadministrativeexpense']:\n",
    "    gae_list.append(locale.atof(value))\n",
    "bb_op_costs['Generalandadministrativeexpense'] = gae_list\n",
    "\n",
    "bb_op_costs['Productdevelopmentexpense'] = bb_op_costs['Productdevelopmentexpense'].astype(str)\n",
    "pde_list = []\n",
    "for value in bb_op_costs['Productdevelopmentexpense']:\n",
    "    pde_list.append(locale.atof(value))\n",
    "bb_op_costs['Productdevelopmentexpense'] = pde_list\n",
    "\n",
    "\n",
    "bb_op_costs['gross_profit_margin'] = ((bb_op_costs['Revenue'] - bb_op_costs['Productdevelopmentexpense'] - bb_op_costs['Generalandadministrativeexpense'])/(bb_op_costs['Revenue']))*100\n",
    "bumble_profit_yoy = bb_op_costs[['Year','gross_profit_margin']]"
   ]
  },
  {
   "cell_type": "markdown",
   "id": "1e421fa6-8829-4b0f-8392-23c0b36ed482",
   "metadata": {},
   "source": [
    "### Honey Bee Metrics"
   ]
  },
  {
   "cell_type": "code",
   "execution_count": 14,
   "id": "3775d207-bde4-40fb-b7bc-cd02b8513974",
   "metadata": {},
   "outputs": [],
   "source": [
    "#Read in and consolidate USDA honey info\n",
    "honey23 = pd.read_csv('../data/23Nasshoney.csv')\n",
    "honey22 = pd.read_csv('../data/22Nasshoney.csv')\n",
    "honey21 = pd.read_csv('../data/21Nasshoney.csv')\n",
    "honey20 = pd.read_csv('../data/20Nasshoney.csv')\n",
    "\n",
    "honey = pd.concat([honey20,honey21, honey22, honey23])\n",
    "\n",
    "inc_exp2223 = pd.read_csv('../data/2223Nass_inc_and_exp.csv')\n",
    "inc_exp2021 = pd.read_csv('../data/2021inc_exp.csv')\n",
    "\n",
    "inc_exp2021['Item'] = inc_exp2021['Item'].str.replace(' 1','').str.replace(' 2','').str.replace(' 3','').str.strip()\n",
    "inc_exp2021.loc[2,'Item'] = 'Varroa control and treatment'\n",
    "inc_exp2223['Item'] = inc_exp2223['Item'].str.strip()\n",
    "\n",
    "inc_exp = pd.merge(inc_exp2021,inc_exp2223, how = 'outer', left_on = 'Item', right_on = 'Item')"
   ]
  },
  {
   "cell_type": "markdown",
   "id": "3e9d88e5-bd3c-4593-a27b-761bc29164cf",
   "metadata": {},
   "source": [
    "##### Revenue"
   ]
  },
  {
   "cell_type": "code",
   "execution_count": 16,
   "id": "29575c64-6799-4b81-a34e-dc2ebfda6d69",
   "metadata": {},
   "outputs": [],
   "source": [
    "#Honey Sales Revenue"
   ]
  },
  {
   "cell_type": "code",
   "execution_count": 17,
   "id": "825c2c36-746e-42dd-89d4-ddc324d1c0d8",
   "metadata": {},
   "outputs": [],
   "source": [
    "# Calculate annual honey sales by determing YoY depletion of stockpiles\n",
    "honey['year_prior'] = honey['year'] - 1\n",
    "honey_sales = pd.merge(honey, honey, left_on = ['state','year_prior'], right_on = ['state','year'])\n",
    "honey_sales = honey_sales[['state', 'production_1000_pounds_x','stock_1000_pounds_x','price_per_pounds_dollars_x', 'year_x', 'year_prior_x', 'stock_1000_pounds_y']]\n",
    "honey_sales = honey_sales.rename(columns = { 'production_1000_pounds_x': 'production_1000lbs_cy','stock_1000_pounds_x':'stock_1000lbs_cy','price_per_pounds_dollars_x':'price_per_lbs_cy', 'year_x':'current_year', 'year_prior_x':'year_prior', 'stock_1000_pounds_y':'stock_1000lbs_yp'})"
   ]
  },
  {
   "cell_type": "code",
   "execution_count": 18,
   "id": "37f9f3c6-a15b-4338-aa67-1b58b4d07d97",
   "metadata": {},
   "outputs": [],
   "source": [
    "#Format production numbers using locale\n",
    "honey_sales['production_1000lbs_cy'] = honey_sales['production_1000lbs_cy'].astype(str)\n",
    "pcy_list = []\n",
    "for value in honey_sales['production_1000lbs_cy']:\n",
    "    pcy_list.append(locale.atof(value))\n",
    "honey_sales['production_1000lbs_cy'] = pcy_list"
   ]
  },
  {
   "cell_type": "code",
   "execution_count": 19,
   "id": "4f461878-1abb-473b-903e-ad5698480cb5",
   "metadata": {},
   "outputs": [],
   "source": [
    "#Format stock numbers (current year) using locale\n",
    "honey_sales['stock_1000lbs_cy'] = honey_sales['stock_1000lbs_cy'].astype(str)\n",
    "scy_list = []\n",
    "for value in honey_sales['stock_1000lbs_cy']:\n",
    "    scy_list.append(locale.atof(value))\n",
    "honey_sales['stock_1000lbs_cy'] = scy_list"
   ]
  },
  {
   "cell_type": "code",
   "execution_count": 20,
   "id": "30dafe58-8694-4371-aa50-f4111bfdafb7",
   "metadata": {},
   "outputs": [],
   "source": [
    "#Format stock numbers (prior year) using locale\n",
    "honey_sales['stock_1000lbs_yp'] = honey_sales['stock_1000lbs_yp'].astype(str)\n",
    "spy_list = []\n",
    "for value in honey_sales['stock_1000lbs_yp']:\n",
    "    spy_list.append(locale.atof(value))\n",
    "honey_sales['stock_1000lbs_yp'] = spy_list"
   ]
  },
  {
   "cell_type": "code",
   "execution_count": 21,
   "id": "aff681ca-af5b-45ca-a028-a0c3d3450be0",
   "metadata": {},
   "outputs": [],
   "source": [
    "#Calculate annual sales (in 1000 pounds and in 1000 dollars)\n",
    "honey_sales['sales_1000lbs'] = (honey_sales['stock_1000lbs_yp'] + honey_sales['production_1000lbs_cy'] - honey_sales['stock_1000lbs_cy'])\n",
    "honey_sales['sales_1000dollars'] = honey_sales['sales_1000lbs'] * honey_sales['price_per_lbs_cy']"
   ]
  },
  {
   "cell_type": "code",
   "execution_count": 22,
   "id": "b78b4204-8959-41bb-a059-f5f4b78116e0",
   "metadata": {},
   "outputs": [],
   "source": [
    "#Honey sales revenue: 3yr Average and YoY\n",
    "honey_rev_3_yr_avg = honey_sales.loc[honey_sales['state'] == 'United States 6 7']['sales_1000dollars'].mean()\n",
    "honey_rev_yoy = honey_sales.loc[honey_sales['state'] == 'United States 6 7'][['current_year','sales_1000dollars']]"
   ]
  },
  {
   "cell_type": "code",
   "execution_count": 23,
   "id": "37e10840-0e4d-45ae-af8c-fb02694bc9f8",
   "metadata": {},
   "outputs": [],
   "source": [
    "#Other Revenue plus expenses"
   ]
  },
  {
   "cell_type": "code",
   "execution_count": 24,
   "id": "f9ec0178-2c8b-4bb0-beff-ea399f612292",
   "metadata": {},
   "outputs": [],
   "source": [
    "#format income and expendiyure numbers using locale\n",
    "inc_exp['2021_1000dollars'] = inc_exp['2021_1000dollars'].astype(str)\n",
    "ie21_list = []\n",
    "for value in inc_exp['2021_1000dollars']:\n",
    "    ie21_list.append(locale.atof(value))\n",
    "inc_exp['2021_1000dollars'] = ie21_list\n",
    "\n",
    "inc_exp['2022_1000dollars'] = inc_exp['2022_1000dollars'].astype(str)\n",
    "ie22_list = []\n",
    "for value in inc_exp['2022_1000dollars']:\n",
    "    ie22_list.append(locale.atof(value))\n",
    "inc_exp['2022_1000dollars'] = ie22_list\n",
    "\n",
    "inc_exp['2023_1000dollars'] = inc_exp['2023_1000dollars'].astype(str)\n",
    "ie23_list = []\n",
    "for value in inc_exp['2023_1000dollars']:\n",
    "    ie23_list.append(locale.atof(value))\n",
    "inc_exp['2023_1000dollars'] = ie23_list"
   ]
  },
  {
   "cell_type": "code",
   "execution_count": 25,
   "id": "4cc05a8b-e1fa-4904-8f9b-6d59faa8c50b",
   "metadata": {},
   "outputs": [],
   "source": [
    "#rearrange income and expenditure table so it can be joined with revenue table\n",
    "inc_exp_grped = inc_exp[['inc_exp_x', '2021_1000dollars','2022_1000dollars', '2023_1000dollars']]\n",
    "inc_exp_grped = inc_exp_grped.groupby('inc_exp_x').sum().transpose().reset_index().rename(columns = {'index': 'year', 'Expenditure': 'exp_1000dollars', 'Income': 'other_income_1000dollars'})\n",
    "inc_exp_grped['year'] = inc_exp_grped['year'].str[0:4].astype(int)"
   ]
  },
  {
   "cell_type": "code",
   "execution_count": 26,
   "id": "b00bca0b-fa57-4887-b124-e4b19ddbf758",
   "metadata": {},
   "outputs": [],
   "source": [
    "#merge revenue table with income and expenditure table\n",
    "all_rev_exp = pd.merge(honey_rev_yoy, inc_exp_grped, left_on = 'current_year', right_on = 'year')\n",
    "all_rev_exp = all_rev_exp[['year', 'sales_1000dollars', 'other_income_1000dollars','exp_1000dollars']]"
   ]
  },
  {
   "cell_type": "code",
   "execution_count": 27,
   "id": "98b78abf-5779-4269-a59e-c363bd870e7d",
   "metadata": {},
   "outputs": [],
   "source": [
    "# Total Revenue\n",
    "all_rev_exp ['total_revenue'] = all_rev_exp['sales_1000dollars'] + all_rev_exp['other_income_1000dollars']\n",
    "bee_total_rev_3yr = all_rev_exp['total_revenue'].mean()\n",
    "bee_total_rev_yoy = all_rev_exp[['year','total_revenue']]"
   ]
  },
  {
   "cell_type": "markdown",
   "id": "f1b92969-b02e-4f28-8c1f-955c80e60509",
   "metadata": {},
   "source": [
    "##### Gross Profit Margin\n"
   ]
  },
  {
   "cell_type": "code",
   "execution_count": 29,
   "id": "27e02edb-3805-4292-8525-f927e148fdac",
   "metadata": {},
   "outputs": [],
   "source": [
    "#Gross Profit\n",
    "all_rev_exp['gross_profit'] = all_rev_exp['sales_1000dollars'] + all_rev_exp['other_income_1000dollars'] - all_rev_exp['exp_1000dollars']"
   ]
  },
  {
   "cell_type": "code",
   "execution_count": 60,
   "id": "436d0b39-b258-4c43-957f-b768a5a3dd5d",
   "metadata": {},
   "outputs": [],
   "source": [
    "#Gross Profit Margin\n",
    "all_rev_exp['profit_margin'] = (all_rev_exp['gross_profit']/all_rev_exp['total_revenue'])*100\n",
    "bee_profit_3yr_avg = (all_rev_exp['gross_profit'].sum())/(all_rev_exp['total_revenue'].sum())\n",
    "bee_profit_yoy = all_rev_exp[['year','profit_margin']]"
   ]
  },
  {
   "cell_type": "markdown",
   "id": "2055b37b-ec25-4252-b224-48e2b8e88da7",
   "metadata": {},
   "source": [
    "### Comparison Analysis"
   ]
  },
  {
   "cell_type": "code",
   "execution_count": 149,
   "id": "d5b00a00-f033-499b-9748-0a4b8be69342",
   "metadata": {},
   "outputs": [
    {
     "name": "stderr",
     "output_type": "stream",
     "text": [
      "C:\\Users\\aubre\\AppData\\Local\\Temp\\ipykernel_8120\\1702925984.py:5: SettingWithCopyWarning: \n",
      "A value is trying to be set on a copy of a slice from a DataFrame.\n",
      "Try using .loc[row_indexer,col_indexer] = value instead\n",
      "\n",
      "See the caveats in the documentation: https://pandas.pydata.org/pandas-docs/stable/user_guide/indexing.html#returning-a-view-versus-a-copy\n",
      "  bee_total_rev_yoy_concat['Entity'] = 'Bees'\n"
     ]
    },
    {
     "data": {
      "text/plain": [
       "Text(42.865201822916674, 0.5, 'Revenue (thousands)')"
      ]
     },
     "execution_count": 149,
     "metadata": {},
     "output_type": "execute_result"
    },
    {
     "data": {
      "image/png": "[encoded data removed]",
      "text/plain": [
       "<Figure size 603.125x500 with 1 Axes>"
      ]
     },
     "metadata": {},
     "output_type": "display_data"
    }
   ],
   "source": [
    "#### YoY Revenue\n",
    "rev_yoy_concat = rev_yoy.rename(columns = {'Year':'year','Revenue':'total_revenue'})\n",
    "rev_yoy_concat['Entity'] = 'Bumble'\n",
    "bee_total_rev_yoy_concat = bee_total_rev_yoy\n",
    "bee_total_rev_yoy_concat['Entity'] = 'Bees'\n",
    "rev_catplot = pd.concat([rev_yoy_concat, bee_total_rev_yoy])\n",
    "\n",
    "sns.catplot(kind = 'bar',data = rev_catplot, x = 'year', y = 'total_revenue', hue = 'Entity')\n",
    "plt.ylabel('Revenue (thousands)')"
   ]
  },
  {
   "cell_type": "code",
   "execution_count": 97,
   "id": "81b21731-76b5-4f65-a0a4-55aca61f5816",
   "metadata": {},
   "outputs": [],
   "source": [
    "#### YoY Profit Margin"
   ]
  },
  {
   "cell_type": "code",
   "execution_count": 131,
   "id": "702a15fa-cbda-49a4-9587-7d791340dc46",
   "metadata": {},
   "outputs": [
    {
     "data": {
      "image/png": "[encoded data removed]",
      "text/plain": [
       "<Figure size 640x480 with 1 Axes>"
      ]
     },
     "metadata": {},
     "output_type": "display_data"
    }
   ],
   "source": [
    "profit_comparison = pd.merge(bee_profit_yoy, bumble_profit_yoy, left_on = 'year', right_on = 'Year')\n",
    "profit_comparison\n",
    "sns.lineplot(data=bumble_profit_yoy, x='Year', y='gross_profit_margin', label='Bumble Inc.')\n",
    "sns.lineplot(data=bee_profit_yoy, x='year', y='profit_margin', label='Bees')\n",
    "plt.xticks(bee_profit_yoy['year'])\n",
    "plt.xlabel('Year')\n",
    "plt.ylabel('Gross Profit Margin (Percentage)')\n",
    "plt.ylim(0, 100);"
   ]
  },
  {
   "cell_type": "code",
   "execution_count": null,
   "id": "225f3eba-e1ee-4755-b927-f338eb8718bf",
   "metadata": {},
   "outputs": [],
   "source": [
    "### Gross Profit"
   ]
  }
 ],
 "metadata": {
  "kernelspec": {
   "display_name": "Python 3 (ipykernel)",
   "language": "python",
   "name": "python3"
  },
  "language_info": {
   "codemirror_mode": {
    "name": "ipython",
    "version": 3
   },
   "file_extension": ".py",
   "mimetype": "text/x-python",
   "name": "python",
   "nbconvert_exporter": "python",
   "pygments_lexer": "ipython3",
   "version": "3.12.4"
  }
 },
 "nbformat": 4,
 "nbformat_minor": 5
}
