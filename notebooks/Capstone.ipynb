{
 "cells": [
  {
   "cell_type": "markdown",
   "id": "263bf361-66c1-4e1b-a32c-75e532135930",
   "metadata": {},
   "source": [
    "### How would the annual performance reports of honey bees compare to the annual reports released by Bumble? What are the relative strengths and weaknesses of each entity and what opportunities and risks should potential stakeholders be aware of? \n",
    "#### Key Metrics (annually and 3 year average)\n",
    "-Revenue\n",
    "-Gross Profit Margin (revenue - COGS)\n",
    "#### Other Questions\n",
    "-Which entity appears more stable over the measured period?\n",
    "-How does each entity diversify revenue streams? What percentage of total revenue does each revenue stream make up?\n",
    "-What are the highest costs?\n",
    "-How would queen bees be compensated if they were paid on similar scale to bumble CEOs (ceo comp data is in bumble proxy report)"
   ]
  },
  {
   "cell_type": "code",
   "execution_count": 2,
   "id": "dca0b89e-9b68-4b9d-b59d-16966e19e698",
   "metadata": {},
   "outputs": [
    {
     "data": {
      "text/plain": [
       "'en_US.UTF-8'"
      ]
     },
     "execution_count": 2,
     "metadata": {},
     "output_type": "execute_result"
    }
   ],
   "source": [
    "#Library setup\n",
    "import pandas as pd\n",
    "import matplotlib.pyplot as plt\n",
    "import seaborn as sns\n",
    "import locale\n",
    "locale.setlocale(locale.LC_NUMERIC, 'en_US.UTF-8')\n"
   ]
  },
  {
   "cell_type": "markdown",
   "id": "a5ed1b4a-4559-434e-a486-e91a12dfde6d",
   "metadata": {},
   "source": [
    "### Bumble Inc Metrics"
   ]
  },
  {
   "cell_type": "code",
   "execution_count": 4,
   "id": "3dff68be-b245-40a2-af00-f0905df83b46",
   "metadata": {
    "scrolled": true
   },
   "outputs": [],
   "source": [
    "#Read in and clean annual report data\n",
    "bb_op_costs23 = pd.read_csv('../data/bb_op_costs23.csv')\n",
    "bb_op_costs = bb_op_costs23.rename(columns = {'in_thousands': 'metric_in_thousands', 'ye_2023': '2023', 'ye_2022': '2022', 'ye_2021': '2021'})\n",
    "bb_op_costs = bb_op_costs.set_index('metric_in_thousands').transpose()\n",
    "bb_op_costs = bb_op_costs.reset_index()\n",
    "bb_op_costs = bb_op_costs.reset_index(drop = True).rename(columns={'index': 'Year'})\n",
    "bb_op_costs['Year'] = bb_op_costs['Year'].astype(int)\n",
    "\n",
    "bb_rev_streams = pd.read_csv('../data/bumble_rev_streams2023.csv')\n",
    "\n",
    "exec_comp = pd.read_csv('../data/2223bumble_exec_comp.csv')\n",
    "\n",
    "paying_users = pd.read_csv('../data/bumble_paying_users.csv')\n",
    "paying_users = paying_users.set_index('KeyOperatingMetrics').transpose().reset_index().rename(columns = {'KeyOperatingMetrics': 'Index', 'index': 'Year'})"
   ]
  },
  {
   "cell_type": "markdown",
   "id": "824f8bef-4473-4133-a1a1-c4d8812cf9e5",
   "metadata": {},
   "source": [
    "##### Revenue"
   ]
  },
  {
   "cell_type": "code",
   "execution_count": 6,
   "id": "b72fa72a-5c30-4f7f-bc17-65d0a6f5098e",
   "metadata": {},
   "outputs": [],
   "source": [
    "#Format revenue values with locale to remove commas and cast as float\n",
    "bb_op_costs['Revenue'] = bb_op_costs['Revenue'].astype(str)\n",
    "rev_list = []\n",
    "for value in bb_op_costs['Revenue']:\n",
    "    rev_list.append(locale.atof(value))\n",
    "bb_op_costs['Revenue'] = rev_list"
   ]
  },
  {
   "cell_type": "code",
   "execution_count": 7,
   "id": "efd49464-aaf8-48db-b6ea-5e3235d3cda2",
   "metadata": {},
   "outputs": [],
   "source": [
    "#Revenue: 3yr Average and Year-over-Year\n",
    "rev_3yr_avg = bb_op_costs['Revenue'].mean()\n",
    "rev_yoy = bb_op_costs[['Year','Revenue']]\n"
   ]
  },
  {
   "cell_type": "markdown",
   "id": "0f1fd2b6-7878-4c01-9826-8193b531942b",
   "metadata": {},
   "source": [
    "##### Gross Margin"
   ]
  },
  {
   "cell_type": "code",
   "execution_count": 9,
   "id": "e6452d25-8dd3-4969-8b77-9e4bcdb4a742",
   "metadata": {},
   "outputs": [],
   "source": [
    "#Format total operating costs and expenses with locale to remove commas and cast as float\n",
    "bb_op_costs['Totaloperatingcostsandexpenses'] = bb_op_costs['Totaloperatingcostsandexpenses'].astype(str)\n",
    "topce_list = []\n",
    "for value in bb_op_costs['Totaloperatingcostsandexpenses']:\n",
    "    topce_list.append(locale.atof(value))\n",
    "bb_op_costs['Totaloperatingcostsandexpenses'] = topce_list"
   ]
  },
  {
   "cell_type": "code",
   "execution_count": 10,
   "id": "fba65783-5bd8-4f0d-af6a-32a8d85c77fb",
   "metadata": {},
   "outputs": [],
   "source": [
    "#Format depreciation and amortization expenses with locale to remove commas and cast as float\n",
    "bb_op_costs['Depreciationandamortizationexpense'] = bb_op_costs['Depreciationandamortizationexpense'].astype(str)\n",
    "daa_list = []\n",
    "for value in bb_op_costs['Depreciationandamortizationexpense']:\n",
    "    daa_list.append(locale.atof(value))\n",
    "bb_op_costs['Depreciationandamortizationexpense'] = daa_list"
   ]
  },
  {
   "cell_type": "code",
   "execution_count": 11,
   "id": "c74d8080-e587-4376-afeb-390967134e14",
   "metadata": {},
   "outputs": [
    {
     "data": {
      "text/html": [
       "<div>\n",
       "<style scoped>\n",
       "    .dataframe tbody tr th:only-of-type {\n",
       "        vertical-align: middle;\n",
       "    }\n",
       "\n",
       "    .dataframe tbody tr th {\n",
       "        vertical-align: top;\n",
       "    }\n",
       "\n",
       "    .dataframe thead th {\n",
       "        text-align: right;\n",
       "    }\n",
       "</style>\n",
       "<table border=\"1\" class=\"dataframe\">\n",
       "  <thead>\n",
       "    <tr style=\"text-align: right;\">\n",
       "      <th>metric_in_thousands</th>\n",
       "      <th>Year</th>\n",
       "      <th>Revenue</th>\n",
       "      <th>Costofrevenue</th>\n",
       "      <th>Sellingandmarketingexpense</th>\n",
       "      <th>Generalandadministrativeexpense</th>\n",
       "      <th>Productdevelopmentexpense</th>\n",
       "      <th>Depreciationandamortizationexpense</th>\n",
       "      <th>Totaloperatingcostsandexpenses</th>\n",
       "      <th>Operatingearnings(loss)</th>\n",
       "      <th>Interestincome(expense),net</th>\n",
       "      <th>Otherincome(expense),net</th>\n",
       "      <th>Income(loss)beforeincometax</th>\n",
       "      <th>Incometaxbenefit(provision)</th>\n",
       "      <th>Netearnings(loss)</th>\n",
       "      <th>Netearnings(loss)attributabletononcontrollinginterests</th>\n",
       "      <th>Netearnings(loss)attributabletoBumbleInc.shareholders</th>\n",
       "      <th>Ebitda_Earnings</th>\n",
       "      <th>Ebitda_Margin</th>\n",
       "    </tr>\n",
       "  </thead>\n",
       "  <tbody>\n",
       "    <tr>\n",
       "      <th>0</th>\n",
       "      <td>2023</td>\n",
       "      <td>1051830.0</td>\n",
       "      <td>307835</td>\n",
       "      <td>270380</td>\n",
       "      <td>221649</td>\n",
       "      <td>130565</td>\n",
       "      <td>68028.0</td>\n",
       "      <td>998457.0</td>\n",
       "      <td>53373</td>\n",
       "      <td>-21,534</td>\n",
       "      <td>-26,537</td>\n",
       "      <td>5,302</td>\n",
       "      <td>-7,170</td>\n",
       "      <td>-1,868</td>\n",
       "      <td>2,345</td>\n",
       "      <td>-4,213</td>\n",
       "      <td>121401.0</td>\n",
       "      <td>12.0</td>\n",
       "    </tr>\n",
       "    <tr>\n",
       "      <th>1</th>\n",
       "      <td>2022</td>\n",
       "      <td>903503.0</td>\n",
       "      <td>249,490</td>\n",
       "      <td>249,269</td>\n",
       "      <td>308,855</td>\n",
       "      <td>109,020</td>\n",
       "      <td>89713.0</td>\n",
       "      <td>1006347.0</td>\n",
       "      <td>-102,844</td>\n",
       "      <td>-24063</td>\n",
       "      <td>16189</td>\n",
       "      <td>-110718</td>\n",
       "      <td>-3406</td>\n",
       "      <td>-114124</td>\n",
       "      <td>-34378</td>\n",
       "      <td>-79746</td>\n",
       "      <td>-13131.0</td>\n",
       "      <td>-1.0</td>\n",
       "    </tr>\n",
       "    <tr>\n",
       "      <th>2</th>\n",
       "      <td>2021</td>\n",
       "      <td>760910.0</td>\n",
       "      <td>205,573</td>\n",
       "      <td>211,711</td>\n",
       "      <td>257,489</td>\n",
       "      <td>113,764</td>\n",
       "      <td>107056.0</td>\n",
       "      <td>895593.0</td>\n",
       "      <td>-134,683</td>\n",
       "      <td>-24574</td>\n",
       "      <td>3160</td>\n",
       "      <td>-156097</td>\n",
       "      <td>437837</td>\n",
       "      <td>281740</td>\n",
       "      <td>-28075</td>\n",
       "      <td>309815</td>\n",
       "      <td>-27627.0</td>\n",
       "      <td>-4.0</td>\n",
       "    </tr>\n",
       "  </tbody>\n",
       "</table>\n",
       "</div>"
      ],
      "text/plain": [
       "metric_in_thousands  Year    Revenue Costofrevenue Sellingandmarketingexpense  \\\n",
       "0                    2023  1051830.0        307835                     270380   \n",
       "1                    2022   903503.0       249,490                    249,269   \n",
       "2                    2021   760910.0       205,573                    211,711   \n",
       "\n",
       "metric_in_thousands Generalandadministrativeexpense Productdevelopmentexpense  \\\n",
       "0                                            221649                    130565   \n",
       "1                                           308,855                   109,020   \n",
       "2                                           257,489                   113,764   \n",
       "\n",
       "metric_in_thousands  Depreciationandamortizationexpense  \\\n",
       "0                                               68028.0   \n",
       "1                                               89713.0   \n",
       "2                                              107056.0   \n",
       "\n",
       "metric_in_thousands  Totaloperatingcostsandexpenses Operatingearnings(loss)  \\\n",
       "0                                          998457.0                   53373   \n",
       "1                                         1006347.0                -102,844   \n",
       "2                                          895593.0                -134,683   \n",
       "\n",
       "metric_in_thousands Interestincome(expense),net Otherincome(expense),net  \\\n",
       "0                                       -21,534                  -26,537   \n",
       "1                                        -24063                    16189   \n",
       "2                                        -24574                     3160   \n",
       "\n",
       "metric_in_thousands Income(loss)beforeincometax Incometaxbenefit(provision)  \\\n",
       "0                                         5,302                      -7,170   \n",
       "1                                       -110718                       -3406   \n",
       "2                                       -156097                      437837   \n",
       "\n",
       "metric_in_thousands Netearnings(loss)  \\\n",
       "0                              -1,868   \n",
       "1                             -114124   \n",
       "2                              281740   \n",
       "\n",
       "metric_in_thousands Netearnings(loss)attributabletononcontrollinginterests  \\\n",
       "0                                                                2,345       \n",
       "1                                                               -34378       \n",
       "2                                                               -28075       \n",
       "\n",
       "metric_in_thousands Netearnings(loss)attributabletoBumbleInc.shareholders  \\\n",
       "0                                                               -4,213      \n",
       "1                                                               -79746      \n",
       "2                                                               309815      \n",
       "\n",
       "metric_in_thousands  Ebitda_Earnings  Ebitda_Margin  \n",
       "0                           121401.0           12.0  \n",
       "1                           -13131.0           -1.0  \n",
       "2                           -27627.0           -4.0  "
      ]
     },
     "execution_count": 11,
     "metadata": {},
     "output_type": "execute_result"
    }
   ],
   "source": [
    "#Ebitda: 3yr Average and Year-over-Year\n",
    "bb_op_costs['Ebitda_Earnings'] = bb_op_costs['Revenue'] - bb_op_costs['Totaloperatingcostsandexpenses'] + bb_op_costs['Depreciationandamortizationexpense']\n",
    "ebitda_3yr_avg = bb_op_costs['Ebitda_Earnings'].mean()\n",
    "ebitda_yoy = bb_op_costs[['Year','Ebitda_Earnings']]\n",
    "\n",
    "#Ebitda Margin: 3yr Average and Year-over-Year\n",
    "bb_op_costs['Ebitda_Margin'] = ((bb_op_costs['Ebitda_Earnings']/bb_op_costs['Revenue'])*100).round(0)\n",
    "ebitda_margin_3yr_avg = (((bb_op_costs['Ebitda_Earnings'].sum())/(bb_op_costs['Revenue'].sum()))*100).round(0) #is this the best way to calculate this?\n",
    "ebitda_margin_yoy = bb_op_costs[['Year','Ebitda_Margin']]\n",
    "bb_op_costs\n"
   ]
  },
  {
   "cell_type": "code",
   "execution_count": 12,
   "id": "25cd402c-bf12-43e8-8c59-ad467234ac51",
   "metadata": {},
   "outputs": [],
   "source": [
    "#Sandbox - adjusting business expensese to more fairly align with bee expenses\n",
    "bb_op_costs['Generalandadministrativeexpense'] = bb_op_costs['Generalandadministrativeexpense'].astype(str)\n",
    "gae_list = []\n",
    "for value in bb_op_costs['Generalandadministrativeexpense']:\n",
    "    gae_list.append(locale.atof(value))\n",
    "bb_op_costs['Generalandadministrativeexpense'] = gae_list\n",
    "\n",
    "bb_op_costs['Productdevelopmentexpense'] = bb_op_costs['Productdevelopmentexpense'].astype(str)\n",
    "pde_list = []\n",
    "for value in bb_op_costs['Productdevelopmentexpense']:\n",
    "    pde_list.append(locale.atof(value))\n",
    "bb_op_costs['Productdevelopmentexpense'] = pde_list\n",
    "\n",
    "\n",
    "bb_op_costs['gross_profit_margin'] = ((bb_op_costs['Revenue'] - bb_op_costs['Productdevelopmentexpense'] - bb_op_costs['Generalandadministrativeexpense'])/(bb_op_costs['Revenue']))*100\n",
    "bumble_profit_yoy = bb_op_costs[['Year','gross_profit_margin']]\n",
    "bb_op_costs['gross_profit'] = bb_op_costs['Revenue'] - bb_op_costs['Productdevelopmentexpense'] - bb_op_costs['Generalandadministrativeexpense']\n",
    "bumble_gross_profit_yoy = bb_op_costs[['Year','gross_profit']]"
   ]
  },
  {
   "cell_type": "markdown",
   "id": "799c67df-1bbb-4436-a4f4-93e3b32f7618",
   "metadata": {},
   "source": [
    "##### Revenue Streams"
   ]
  },
  {
   "cell_type": "code",
   "execution_count": 14,
   "id": "13d7965b-7ee2-455e-a470-fdc3c20766d7",
   "metadata": {},
   "outputs": [
    {
     "data": {
      "text/html": [
       "<div>\n",
       "<style scoped>\n",
       "    .dataframe tbody tr th:only-of-type {\n",
       "        vertical-align: middle;\n",
       "    }\n",
       "\n",
       "    .dataframe tbody tr th {\n",
       "        vertical-align: top;\n",
       "    }\n",
       "\n",
       "    .dataframe thead th {\n",
       "        text-align: right;\n",
       "    }\n",
       "</style>\n",
       "<table border=\"1\" class=\"dataframe\">\n",
       "  <thead>\n",
       "    <tr style=\"text-align: right;\">\n",
       "      <th></th>\n",
       "      <th>Revenue Stream</th>\n",
       "      <th>total</th>\n",
       "    </tr>\n",
       "  </thead>\n",
       "  <tbody>\n",
       "    <tr>\n",
       "      <th>1</th>\n",
       "      <td>BumbleApp</td>\n",
       "      <td>2067688.0</td>\n",
       "    </tr>\n",
       "    <tr>\n",
       "      <th>2</th>\n",
       "      <td>BadooAppandOther</td>\n",
       "      <td>648555.0</td>\n",
       "    </tr>\n",
       "  </tbody>\n",
       "</table>\n",
       "</div>"
      ],
      "text/plain": [
       "     Revenue Stream      total\n",
       "1         BumbleApp  2067688.0\n",
       "2  BadooAppandOther   648555.0"
      ]
     },
     "execution_count": 14,
     "metadata": {},
     "output_type": "execute_result"
    }
   ],
   "source": [
    "bb_rev_stream = bb_rev_streams.set_index('Column1').transpose().reset_index().rename(columns = {'index':'year'})\n",
    "bb_rev_stream.loc['total'] = bb_rev_stream.sum(numeric_only=True, axis=0)\n",
    "total_bb_rev_stream = bb_rev_stream.loc['total'].reset_index().drop([0,3]).rename(columns = {'Column1': 'Revenue Stream'})\n",
    "total_bb_rev_stream['total'] = total_bb_rev_stream['total'].astype(float)\n",
    "total_bb_rev_stream"
   ]
  },
  {
   "cell_type": "code",
   "execution_count": 100,
   "id": "00b3829a-45b3-4357-a186-8c2e839494e9",
   "metadata": {},
   "outputs": [],
   "source": [
    "bb_rev_stream.to_csv('bumble_rev_stream2.csv')"
   ]
  },
  {
   "cell_type": "markdown",
   "id": "68d3ac4c-7407-447c-a87f-d9f089ec00c5",
   "metadata": {},
   "source": [
    "##### Exec Comp"
   ]
  },
  {
   "cell_type": "code",
   "execution_count": 16,
   "id": "95db0720-d961-4075-827b-43fc8f91d5da",
   "metadata": {},
   "outputs": [],
   "source": [
    "exec_comp['Salary'] = exec_comp['Salary'].astype(str)\n",
    "exc_list = []\n",
    "for value in exec_comp['Salary']:\n",
    "    exc_list.append(locale.atof(value))\n",
    "exec_comp['Salary'] = exc_list\n",
    "\n",
    "avg_salary = exec_comp.groupby('Name and Principal Position')['Salary'].mean().reset_index()\n",
    "avg_salary['Avg_Revenue'] = rev_3yr_avg\n",
    "avg_salary['Share_of_Rev'] = avg_salary['Salary']/(avg_salary['Avg_Revenue'])\n",
    "CFO = avg_salary.loc[avg_salary['Name and Principal Position'] == 'Anuradha B. Subramanian, Chief Financial Officer']['Share_of_Rev']\n",
    "CEO = avg_salary.loc[avg_salary['Name and Principal Position'] == 'Whitney Wolfe Herd, Executive Chair; Former Chief Executive Officer']['Share_of_Rev']"
   ]
  },
  {
   "cell_type": "code",
   "execution_count": 17,
   "id": "a2388aa6-0213-404a-a52c-c5ea923050d5",
   "metadata": {},
   "outputs": [],
   "source": [
    "##### Risk: Paying User Value"
   ]
  },
  {
   "cell_type": "code",
   "execution_count": 18,
   "id": "a4fc10b3-cc4e-4db9-85f3-bb99f11620a5",
   "metadata": {},
   "outputs": [
    {
     "data": {
      "text/plain": [
       "Text(0, 0.5, 'Revenue (in dollars) per Paying User')"
      ]
     },
     "execution_count": 18,
     "metadata": {},
     "output_type": "execute_result"
    },
    {
     "data": {
      "image/png": "[encoded data removed]",
      "text/plain": [
       "<Figure size 640x480 with 1 Axes>"
      ]
     },
     "metadata": {},
     "output_type": "display_data"
    }
   ],
   "source": [
    "paying_users = paying_users.sort_values('Year').reset_index(drop= True)\n",
    "sns.lineplot(data = paying_users, x = 'Year', y = 'BumbleAppAverageRevenueperPayingUser', color = '#666666')\n",
    "plt.ylabel('Revenue (in dollars) per Paying User')\n",
    "         "
   ]
  },
  {
   "cell_type": "markdown",
   "id": "1e421fa6-8829-4b0f-8392-23c0b36ed482",
   "metadata": {},
   "source": [
    "### Honey Bee Metrics"
   ]
  },
  {
   "cell_type": "code",
   "execution_count": 20,
   "id": "3775d207-bde4-40fb-b7bc-cd02b8513974",
   "metadata": {},
   "outputs": [
    {
     "data": {
      "text/html": [
       "<div>\n",
       "<style scoped>\n",
       "    .dataframe tbody tr th:only-of-type {\n",
       "        vertical-align: middle;\n",
       "    }\n",
       "\n",
       "    .dataframe tbody tr th {\n",
       "        vertical-align: top;\n",
       "    }\n",
       "\n",
       "    .dataframe thead th {\n",
       "        text-align: right;\n",
       "    }\n",
       "</style>\n",
       "<table border=\"1\" class=\"dataframe\">\n",
       "  <thead>\n",
       "    <tr style=\"text-align: right;\">\n",
       "      <th></th>\n",
       "      <th>Item</th>\n",
       "      <th>inc_exp</th>\n",
       "      <th>2020_1000dollars</th>\n",
       "      <th>2021_1000dollars</th>\n",
       "      <th>2022_1000dollars</th>\n",
       "      <th>2023_1000dollars</th>\n",
       "    </tr>\n",
       "  </thead>\n",
       "  <tbody>\n",
       "    <tr>\n",
       "      <th>0</th>\n",
       "      <td>Feed</td>\n",
       "      <td>Expenditure</td>\n",
       "      <td>40,930</td>\n",
       "      <td>42,582</td>\n",
       "      <td>44,517</td>\n",
       "      <td>46,868</td>\n",
       "    </tr>\n",
       "    <tr>\n",
       "      <th>1</th>\n",
       "      <td>Foundation</td>\n",
       "      <td>Expenditure</td>\n",
       "      <td>6,567</td>\n",
       "      <td>7,064</td>\n",
       "      <td>6,934</td>\n",
       "      <td>5,753</td>\n",
       "    </tr>\n",
       "    <tr>\n",
       "      <th>2</th>\n",
       "      <td>Hives/woodenware</td>\n",
       "      <td>Expenditure</td>\n",
       "      <td>11,153</td>\n",
       "      <td>9,863</td>\n",
       "      <td>10,835</td>\n",
       "      <td>10,496</td>\n",
       "    </tr>\n",
       "    <tr>\n",
       "      <th>3</th>\n",
       "      <td>Other colony issues</td>\n",
       "      <td>Expenditure</td>\n",
       "      <td>3,166</td>\n",
       "      <td>3,066</td>\n",
       "      <td>5,096</td>\n",
       "      <td>4,967</td>\n",
       "    </tr>\n",
       "    <tr>\n",
       "      <th>4</th>\n",
       "      <td>Other income</td>\n",
       "      <td>Income</td>\n",
       "      <td>55,773</td>\n",
       "      <td>101,688</td>\n",
       "      <td>55,188</td>\n",
       "      <td>57,720</td>\n",
       "    </tr>\n",
       "    <tr>\n",
       "      <th>5</th>\n",
       "      <td>Pollination income</td>\n",
       "      <td>Income</td>\n",
       "      <td>254,282</td>\n",
       "      <td>268,590</td>\n",
       "      <td>241,042</td>\n",
       "      <td>254,945</td>\n",
       "    </tr>\n",
       "    <tr>\n",
       "      <th>6</th>\n",
       "      <td>Varroa control and treatment</td>\n",
       "      <td>Expenditure</td>\n",
       "      <td>11,706</td>\n",
       "      <td>11,565</td>\n",
       "      <td>13,724</td>\n",
       "      <td>15,112</td>\n",
       "    </tr>\n",
       "  </tbody>\n",
       "</table>\n",
       "</div>"
      ],
      "text/plain": [
       "                           Item      inc_exp 2020_1000dollars  \\\n",
       "0                          Feed  Expenditure           40,930   \n",
       "1                    Foundation  Expenditure            6,567   \n",
       "2              Hives/woodenware  Expenditure           11,153   \n",
       "3           Other colony issues  Expenditure            3,166   \n",
       "4                  Other income       Income           55,773   \n",
       "5            Pollination income       Income          254,282   \n",
       "6  Varroa control and treatment  Expenditure           11,706   \n",
       "\n",
       "  2021_1000dollars 2022_1000dollars 2023_1000dollars  \n",
       "0           42,582           44,517           46,868  \n",
       "1            7,064            6,934            5,753  \n",
       "2            9,863           10,835           10,496  \n",
       "3            3,066            5,096            4,967  \n",
       "4          101,688           55,188           57,720  \n",
       "5          268,590          241,042          254,945  \n",
       "6           11,565           13,724           15,112  "
      ]
     },
     "execution_count": 20,
     "metadata": {},
     "output_type": "execute_result"
    }
   ],
   "source": [
    "#Read in and consolidate USDA honey info\n",
    "honey23 = pd.read_csv('../data/23Nasshoney.csv')\n",
    "honey22 = pd.read_csv('../data/22Nasshoney.csv')\n",
    "honey21 = pd.read_csv('../data/21Nasshoney.csv')\n",
    "honey20 = pd.read_csv('../data/20Nasshoney.csv')\n",
    "\n",
    "honey = pd.concat([honey20,honey21, honey22, honey23])\n",
    "\n",
    "inc_exp2223 = pd.read_csv('../data/2223Nass_inc_and_exp.csv')\n",
    "inc_exp2021 = pd.read_csv('../data/2021inc_exp.csv')\n",
    "inc_exp2021['Item'] = inc_exp2021['Item'].str.replace(' 1','').str.replace(' 2','').str.replace(' 3','').str.replace('Expenditures\\n','').str.strip()\n",
    "inc_exp2223['Item'] = inc_exp2223['Item'].str.replace(' 1','').str.replace(' 2','').str.replace(' 3','').str.replace('Expenditures\\n','').str.strip()\n",
    "inc_exp2223['Item'] = inc_exp2223['Item'].str.strip()\n",
    "\n",
    "inc_exp = pd.merge(inc_exp2021,inc_exp2223, how = 'outer', left_on = ['Item','inc_exp'], right_on = ['Item','inc_exp'])\n",
    "inc_exp"
   ]
  },
  {
   "cell_type": "markdown",
   "id": "3e9d88e5-bd3c-4593-a27b-761bc29164cf",
   "metadata": {},
   "source": [
    "##### Revenue"
   ]
  },
  {
   "cell_type": "code",
   "execution_count": 22,
   "id": "29575c64-6799-4b81-a34e-dc2ebfda6d69",
   "metadata": {},
   "outputs": [
    {
     "data": {
      "text/html": [
       "<div>\n",
       "<style scoped>\n",
       "    .dataframe tbody tr th:only-of-type {\n",
       "        vertical-align: middle;\n",
       "    }\n",
       "\n",
       "    .dataframe tbody tr th {\n",
       "        vertical-align: top;\n",
       "    }\n",
       "\n",
       "    .dataframe thead th {\n",
       "        text-align: right;\n",
       "    }\n",
       "</style>\n",
       "<table border=\"1\" class=\"dataframe\">\n",
       "  <thead>\n",
       "    <tr style=\"text-align: right;\">\n",
       "      <th></th>\n",
       "      <th>state</th>\n",
       "      <th>honey_producing_colonies_1000s</th>\n",
       "      <th>yeld_per_colony_1lbs</th>\n",
       "      <th>production_1000lbs</th>\n",
       "      <th>stock_1000lbs</th>\n",
       "      <th>price_per_lbs</th>\n",
       "      <th>production_value_1000dollars</th>\n",
       "      <th>year</th>\n",
       "    </tr>\n",
       "  </thead>\n",
       "  <tbody>\n",
       "    <tr>\n",
       "      <th>0</th>\n",
       "      <td>Alabama</td>\n",
       "      <td>7</td>\n",
       "      <td>39.0</td>\n",
       "      <td>273</td>\n",
       "      <td>66</td>\n",
       "      <td>5.52</td>\n",
       "      <td>1,507</td>\n",
       "      <td>2020</td>\n",
       "    </tr>\n",
       "    <tr>\n",
       "      <th>1</th>\n",
       "      <td>Arizona</td>\n",
       "      <td>25</td>\n",
       "      <td>36.0</td>\n",
       "      <td>900</td>\n",
       "      <td>360</td>\n",
       "      <td>2.38</td>\n",
       "      <td>2,142</td>\n",
       "      <td>2020</td>\n",
       "    </tr>\n",
       "    <tr>\n",
       "      <th>2</th>\n",
       "      <td>Arkansas</td>\n",
       "      <td>20</td>\n",
       "      <td>49.0</td>\n",
       "      <td>980</td>\n",
       "      <td>176</td>\n",
       "      <td>1.85</td>\n",
       "      <td>1,813</td>\n",
       "      <td>2020</td>\n",
       "    </tr>\n",
       "    <tr>\n",
       "      <th>3</th>\n",
       "      <td>California</td>\n",
       "      <td>320</td>\n",
       "      <td>43.0</td>\n",
       "      <td>13,760</td>\n",
       "      <td>2,752</td>\n",
       "      <td>1.95</td>\n",
       "      <td>26,832</td>\n",
       "      <td>2020</td>\n",
       "    </tr>\n",
       "    <tr>\n",
       "      <th>4</th>\n",
       "      <td>Colorado</td>\n",
       "      <td>30</td>\n",
       "      <td>41.0</td>\n",
       "      <td>1,230</td>\n",
       "      <td>455</td>\n",
       "      <td>2.39</td>\n",
       "      <td>2,940</td>\n",
       "      <td>2020</td>\n",
       "    </tr>\n",
       "    <tr>\n",
       "      <th>...</th>\n",
       "      <td>...</td>\n",
       "      <td>...</td>\n",
       "      <td>...</td>\n",
       "      <td>...</td>\n",
       "      <td>...</td>\n",
       "      <td>...</td>\n",
       "      <td>...</td>\n",
       "      <td>...</td>\n",
       "    </tr>\n",
       "    <tr>\n",
       "      <th>36</th>\n",
       "      <td>West Virginia</td>\n",
       "      <td>6</td>\n",
       "      <td>51.0</td>\n",
       "      <td>306</td>\n",
       "      <td>177</td>\n",
       "      <td>6.35</td>\n",
       "      <td>1,943</td>\n",
       "      <td>2023</td>\n",
       "    </tr>\n",
       "    <tr>\n",
       "      <th>37</th>\n",
       "      <td>Wisconsin</td>\n",
       "      <td>62</td>\n",
       "      <td>45.0</td>\n",
       "      <td>2,790</td>\n",
       "      <td>1,004</td>\n",
       "      <td>3.02</td>\n",
       "      <td>8,426</td>\n",
       "      <td>2023</td>\n",
       "    </tr>\n",
       "    <tr>\n",
       "      <th>38</th>\n",
       "      <td>Wyoming</td>\n",
       "      <td>27</td>\n",
       "      <td>78.0</td>\n",
       "      <td>2,106</td>\n",
       "      <td>400</td>\n",
       "      <td>1.64</td>\n",
       "      <td>3,454</td>\n",
       "      <td>2023</td>\n",
       "    </tr>\n",
       "    <tr>\n",
       "      <th>39</th>\n",
       "      <td>Other States 5 6</td>\n",
       "      <td>46</td>\n",
       "      <td>66.0</td>\n",
       "      <td>3,038</td>\n",
       "      <td>516</td>\n",
       "      <td>4.68</td>\n",
       "      <td>14,218</td>\n",
       "      <td>2023</td>\n",
       "    </tr>\n",
       "    <tr>\n",
       "      <th>40</th>\n",
       "      <td>United States 6 7</td>\n",
       "      <td>2509</td>\n",
       "      <td>55.2</td>\n",
       "      <td>138,571</td>\n",
       "      <td>44,016</td>\n",
       "      <td>2.52</td>\n",
       "      <td>349,199</td>\n",
       "      <td>2023</td>\n",
       "    </tr>\n",
       "  </tbody>\n",
       "</table>\n",
       "<p>166 rows × 8 columns</p>\n",
       "</div>"
      ],
      "text/plain": [
       "                state  honey_producing_colonies_1000s  yeld_per_colony_1lbs  \\\n",
       "0             Alabama                               7                  39.0   \n",
       "1             Arizona                              25                  36.0   \n",
       "2            Arkansas                              20                  49.0   \n",
       "3          California                             320                  43.0   \n",
       "4            Colorado                              30                  41.0   \n",
       "..                ...                             ...                   ...   \n",
       "36      West Virginia                               6                  51.0   \n",
       "37          Wisconsin                              62                  45.0   \n",
       "38            Wyoming                              27                  78.0   \n",
       "39   Other States 5 6                              46                  66.0   \n",
       "40  United States 6 7                            2509                  55.2   \n",
       "\n",
       "   production_1000lbs stock_1000lbs  price_per_lbs  \\\n",
       "0                 273            66           5.52   \n",
       "1                 900           360           2.38   \n",
       "2                 980           176           1.85   \n",
       "3              13,760         2,752           1.95   \n",
       "4               1,230           455           2.39   \n",
       "..                ...           ...            ...   \n",
       "36                306           177           6.35   \n",
       "37              2,790         1,004           3.02   \n",
       "38              2,106           400           1.64   \n",
       "39              3,038           516           4.68   \n",
       "40            138,571        44,016           2.52   \n",
       "\n",
       "   production_value_1000dollars  year  \n",
       "0                         1,507  2020  \n",
       "1                         2,142  2020  \n",
       "2                         1,813  2020  \n",
       "3                        26,832  2020  \n",
       "4                         2,940  2020  \n",
       "..                          ...   ...  \n",
       "36                        1,943  2023  \n",
       "37                        8,426  2023  \n",
       "38                        3,454  2023  \n",
       "39                       14,218  2023  \n",
       "40                      349,199  2023  \n",
       "\n",
       "[166 rows x 8 columns]"
      ]
     },
     "execution_count": 22,
     "metadata": {},
     "output_type": "execute_result"
    }
   ],
   "source": [
    "#Honey Sales Revenue\n",
    "honey"
   ]
  },
  {
   "cell_type": "code",
   "execution_count": 23,
   "id": "825c2c36-746e-42dd-89d4-ddc324d1c0d8",
   "metadata": {},
   "outputs": [],
   "source": [
    "# Calculate annual honey sales by determing YoY depletion of stockpiles\n",
    "honey['year_prior'] = honey['year'] - 1\n",
    "honey_sales = pd.merge(honey, honey, left_on = ['state','year_prior'], right_on = ['state','year'])\n",
    "honey_sales = honey_sales[['state', 'production_1000lbs_x','stock_1000lbs_x','price_per_lbs_x', 'year_x', 'year_prior_x', 'stock_1000lbs_y']]\n",
    "honey_sales = honey_sales.rename(columns = { 'production_1000lbs_x': 'production_1000lbs_cy','stock_1000lbs_x':'stock_1000lbs_cy','price_per_lbs_x':'price_per_lbs_cy', 'year_x':'current_year', 'year_prior_x':'year_prior', 'stock_1000lbs_y':'stock_1000lbs_yp'})"
   ]
  },
  {
   "cell_type": "code",
   "execution_count": 24,
   "id": "37f9f3c6-a15b-4338-aa67-1b58b4d07d97",
   "metadata": {},
   "outputs": [],
   "source": [
    "#Format production numbers using locale\n",
    "honey_sales['production_1000lbs_cy'] = honey_sales['production_1000lbs_cy'].astype(str)\n",
    "pcy_list = []\n",
    "for value in honey_sales['production_1000lbs_cy']:\n",
    "    pcy_list.append(locale.atof(value))\n",
    "honey_sales['production_1000lbs_cy'] = pcy_list"
   ]
  },
  {
   "cell_type": "code",
   "execution_count": 25,
   "id": "4f461878-1abb-473b-903e-ad5698480cb5",
   "metadata": {},
   "outputs": [],
   "source": [
    "#Format stock numbers (current year) using locale\n",
    "honey_sales['stock_1000lbs_cy'] = honey_sales['stock_1000lbs_cy'].astype(str)\n",
    "scy_list = []\n",
    "for value in honey_sales['stock_1000lbs_cy']:\n",
    "    scy_list.append(locale.atof(value))\n",
    "honey_sales['stock_1000lbs_cy'] = scy_list"
   ]
  },
  {
   "cell_type": "code",
   "execution_count": 26,
   "id": "30dafe58-8694-4371-aa50-f4111bfdafb7",
   "metadata": {},
   "outputs": [],
   "source": [
    "#Format stock numbers (prior year) using locale\n",
    "honey_sales['stock_1000lbs_yp'] = honey_sales['stock_1000lbs_yp'].astype(str)\n",
    "spy_list = []\n",
    "for value in honey_sales['stock_1000lbs_yp']:\n",
    "    spy_list.append(locale.atof(value))\n",
    "honey_sales['stock_1000lbs_yp'] = spy_list"
   ]
  },
  {
   "cell_type": "code",
   "execution_count": 27,
   "id": "aff681ca-af5b-45ca-a028-a0c3d3450be0",
   "metadata": {},
   "outputs": [],
   "source": [
    "#Calculate annual sales (in 1000 pounds and in 1000 dollars)\n",
    "honey_sales['sales_1000lbs'] = (honey_sales['stock_1000lbs_yp'] + honey_sales['production_1000lbs_cy'] - honey_sales['stock_1000lbs_cy'])\n",
    "honey_sales['sales_1000dollars'] = honey_sales['sales_1000lbs'] * honey_sales['price_per_lbs_cy']"
   ]
  },
  {
   "cell_type": "code",
   "execution_count": 28,
   "id": "b78b4204-8959-41bb-a059-f5f4b78116e0",
   "metadata": {},
   "outputs": [],
   "source": [
    "#Honey sales revenue: 3yr Average and YoY\n",
    "honey_rev_3_yr_avg = honey_sales.loc[honey_sales['state'] == 'United States 6 7']['sales_1000dollars'].mean()\n",
    "honey_rev_yoy = honey_sales.loc[honey_sales['state'] == 'United States 6 7'][['current_year','sales_1000dollars']]"
   ]
  },
  {
   "cell_type": "code",
   "execution_count": 29,
   "id": "37e10840-0e4d-45ae-af8c-fb02694bc9f8",
   "metadata": {},
   "outputs": [],
   "source": [
    "#Other Revenue plus expenses"
   ]
  },
  {
   "cell_type": "code",
   "execution_count": 30,
   "id": "f9ec0178-2c8b-4bb0-beff-ea399f612292",
   "metadata": {},
   "outputs": [],
   "source": [
    "#format income and expendiyure numbers using locale\n",
    "inc_exp['2021_1000dollars'] = inc_exp['2021_1000dollars'].astype(str)\n",
    "ie21_list = []\n",
    "for value in inc_exp['2021_1000dollars']:\n",
    "    ie21_list.append(locale.atof(value))\n",
    "inc_exp['2021_1000dollars'] = ie21_list\n",
    "\n",
    "inc_exp['2022_1000dollars'] = inc_exp['2022_1000dollars'].astype(str)\n",
    "ie22_list = []\n",
    "for value in inc_exp['2022_1000dollars']:\n",
    "    ie22_list.append(locale.atof(value))\n",
    "inc_exp['2022_1000dollars'] = ie22_list\n",
    "\n",
    "inc_exp['2023_1000dollars'] = inc_exp['2023_1000dollars'].astype(str)\n",
    "ie23_list = []\n",
    "for value in inc_exp['2023_1000dollars']:\n",
    "    ie23_list.append(locale.atof(value))\n",
    "inc_exp['2023_1000dollars'] = ie23_list"
   ]
  },
  {
   "cell_type": "code",
   "execution_count": 31,
   "id": "4cc05a8b-e1fa-4904-8f9b-6d59faa8c50b",
   "metadata": {},
   "outputs": [
    {
     "data": {
      "text/html": [
       "<div>\n",
       "<style scoped>\n",
       "    .dataframe tbody tr th:only-of-type {\n",
       "        vertical-align: middle;\n",
       "    }\n",
       "\n",
       "    .dataframe tbody tr th {\n",
       "        vertical-align: top;\n",
       "    }\n",
       "\n",
       "    .dataframe thead th {\n",
       "        text-align: right;\n",
       "    }\n",
       "</style>\n",
       "<table border=\"1\" class=\"dataframe\">\n",
       "  <thead>\n",
       "    <tr style=\"text-align: right;\">\n",
       "      <th>inc_exp</th>\n",
       "      <th>year</th>\n",
       "      <th>exp_1000dollars</th>\n",
       "      <th>other_income_1000dollars</th>\n",
       "    </tr>\n",
       "  </thead>\n",
       "  <tbody>\n",
       "    <tr>\n",
       "      <th>0</th>\n",
       "      <td>2021</td>\n",
       "      <td>74140.0</td>\n",
       "      <td>370278.0</td>\n",
       "    </tr>\n",
       "    <tr>\n",
       "      <th>1</th>\n",
       "      <td>2022</td>\n",
       "      <td>81106.0</td>\n",
       "      <td>296230.0</td>\n",
       "    </tr>\n",
       "    <tr>\n",
       "      <th>2</th>\n",
       "      <td>2023</td>\n",
       "      <td>83196.0</td>\n",
       "      <td>312665.0</td>\n",
       "    </tr>\n",
       "  </tbody>\n",
       "</table>\n",
       "</div>"
      ],
      "text/plain": [
       "inc_exp  year  exp_1000dollars  other_income_1000dollars\n",
       "0        2021          74140.0                  370278.0\n",
       "1        2022          81106.0                  296230.0\n",
       "2        2023          83196.0                  312665.0"
      ]
     },
     "execution_count": 31,
     "metadata": {},
     "output_type": "execute_result"
    }
   ],
   "source": [
    "#rearrange income and expenditure table so it can be joined with revenue table\n",
    "inc_exp_grped = inc_exp[['inc_exp','2021_1000dollars','2022_1000dollars', '2023_1000dollars']]\n",
    "inc_exp_grped = inc_exp_grped.groupby('inc_exp').sum().transpose().reset_index().rename(columns = {'index': 'year', 'Expenditure': 'exp_1000dollars', 'Income': 'other_income_1000dollars'})\n",
    "inc_exp_grped['year'] = inc_exp_grped['year'].str[0:4].astype(int)\n",
    "inc_exp_grped"
   ]
  },
  {
   "cell_type": "code",
   "execution_count": 32,
   "id": "b00bca0b-fa57-4887-b124-e4b19ddbf758",
   "metadata": {},
   "outputs": [],
   "source": [
    "#merge revenue table with income and expenditure table\n",
    "all_rev_exp = pd.merge(honey_rev_yoy, inc_exp_grped, left_on = 'current_year', right_on = 'year')\n",
    "all_rev_exp = all_rev_exp[['year', 'sales_1000dollars', 'other_income_1000dollars','exp_1000dollars']]"
   ]
  },
  {
   "cell_type": "code",
   "execution_count": 33,
   "id": "98b78abf-5779-4269-a59e-c363bd870e7d",
   "metadata": {},
   "outputs": [
    {
     "data": {
      "text/html": [
       "<div>\n",
       "<style scoped>\n",
       "    .dataframe tbody tr th:only-of-type {\n",
       "        vertical-align: middle;\n",
       "    }\n",
       "\n",
       "    .dataframe tbody tr th {\n",
       "        vertical-align: top;\n",
       "    }\n",
       "\n",
       "    .dataframe thead th {\n",
       "        text-align: right;\n",
       "    }\n",
       "</style>\n",
       "<table border=\"1\" class=\"dataframe\">\n",
       "  <thead>\n",
       "    <tr style=\"text-align: right;\">\n",
       "      <th></th>\n",
       "      <th>year</th>\n",
       "      <th>total_revenue</th>\n",
       "    </tr>\n",
       "  </thead>\n",
       "  <tbody>\n",
       "    <tr>\n",
       "      <th>0</th>\n",
       "      <td>2021</td>\n",
       "      <td>732619.16</td>\n",
       "    </tr>\n",
       "    <tr>\n",
       "      <th>1</th>\n",
       "      <td>2022</td>\n",
       "      <td>674517.77</td>\n",
       "    </tr>\n",
       "    <tr>\n",
       "      <th>2</th>\n",
       "      <td>2023</td>\n",
       "      <td>609359.72</td>\n",
       "    </tr>\n",
       "  </tbody>\n",
       "</table>\n",
       "</div>"
      ],
      "text/plain": [
       "   year  total_revenue\n",
       "0  2021      732619.16\n",
       "1  2022      674517.77\n",
       "2  2023      609359.72"
      ]
     },
     "execution_count": 33,
     "metadata": {},
     "output_type": "execute_result"
    }
   ],
   "source": [
    "# Total Revenue\n",
    "all_rev_exp ['total_revenue'] = all_rev_exp['sales_1000dollars'] + all_rev_exp['other_income_1000dollars']\n",
    "bee_total_rev_3yr = all_rev_exp['total_revenue'].mean()\n",
    "bee_total_rev_yoy = all_rev_exp[['year','total_revenue']]\n",
    "bee_total_rev_yoy"
   ]
  },
  {
   "cell_type": "markdown",
   "id": "f1b92969-b02e-4f28-8c1f-955c80e60509",
   "metadata": {},
   "source": [
    "##### Gross Profit Margin\n"
   ]
  },
  {
   "cell_type": "code",
   "execution_count": 35,
   "id": "27e02edb-3805-4292-8525-f927e148fdac",
   "metadata": {},
   "outputs": [],
   "source": [
    "#Gross Profit\n",
    "all_rev_exp['gross_profit'] = all_rev_exp['sales_1000dollars'] + all_rev_exp['other_income_1000dollars'] - all_rev_exp['exp_1000dollars']\n",
    "bee_gross_profit_yoy = all_rev_exp[['year','gross_profit']]"
   ]
  },
  {
   "cell_type": "code",
   "execution_count": 36,
   "id": "436d0b39-b258-4c43-957f-b768a5a3dd5d",
   "metadata": {},
   "outputs": [],
   "source": [
    "#Gross Profit Margin\n",
    "all_rev_exp['profit_margin'] = (all_rev_exp['gross_profit']/all_rev_exp['total_revenue'])*100\n",
    "bee_profit_3yr_avg = (all_rev_exp['gross_profit'].sum())/(all_rev_exp['total_revenue'].sum())\n",
    "bee_profit_yoy = all_rev_exp[['year','profit_margin']]"
   ]
  },
  {
   "cell_type": "markdown",
   "id": "03f45784-d483-4d3d-92e8-7bde9f995b12",
   "metadata": {},
   "source": [
    "##### Revenue Streams"
   ]
  },
  {
   "cell_type": "code",
   "execution_count": 38,
   "id": "c72b691e-be5e-4e18-872a-9fd49e9db220",
   "metadata": {},
   "outputs": [],
   "source": [
    "all_rev_exp.loc['sum'] = all_rev_exp.sum()\n",
    "bee_rev_streams = all_rev_exp[['sales_1000dollars','other_income_1000dollars']].loc['sum'].reset_index().rename(columns = {'index': 'Revenue Stream'})"
   ]
  },
  {
   "cell_type": "markdown",
   "id": "45f029bf-7199-4fcb-a8cd-468eecb64394",
   "metadata": {},
   "source": [
    "##### Risk : Honey Costs Over Time"
   ]
  },
  {
   "cell_type": "code",
   "execution_count": 40,
   "id": "6b89cf83-3ee7-40ed-87d6-dfcc318a16ab",
   "metadata": {},
   "outputs": [
    {
     "data": {
      "text/html": [
       "<div>\n",
       "<style scoped>\n",
       "    .dataframe tbody tr th:only-of-type {\n",
       "        vertical-align: middle;\n",
       "    }\n",
       "\n",
       "    .dataframe tbody tr th {\n",
       "        vertical-align: top;\n",
       "    }\n",
       "\n",
       "    .dataframe thead th {\n",
       "        text-align: right;\n",
       "    }\n",
       "</style>\n",
       "<table border=\"1\" class=\"dataframe\">\n",
       "  <thead>\n",
       "    <tr style=\"text-align: right;\">\n",
       "      <th></th>\n",
       "      <th>state</th>\n",
       "      <th>production_1000lbs_cy</th>\n",
       "      <th>stock_1000lbs_cy</th>\n",
       "      <th>price_per_lbs_cy</th>\n",
       "      <th>current_year</th>\n",
       "      <th>year_prior</th>\n",
       "      <th>stock_1000lbs_yp</th>\n",
       "      <th>sales_1000lbs</th>\n",
       "      <th>sales_1000dollars</th>\n",
       "    </tr>\n",
       "  </thead>\n",
       "  <tbody>\n",
       "    <tr>\n",
       "      <th>41</th>\n",
       "      <td>United States 6 7</td>\n",
       "      <td>126466.0</td>\n",
       "      <td>23527.0</td>\n",
       "      <td>2.54</td>\n",
       "      <td>2021</td>\n",
       "      <td>2020</td>\n",
       "      <td>39715.0</td>\n",
       "      <td>142654.0</td>\n",
       "      <td>362341.16</td>\n",
       "    </tr>\n",
       "    <tr>\n",
       "      <th>82</th>\n",
       "      <td>United States 6 7</td>\n",
       "      <td>125331.0</td>\n",
       "      <td>23181.0</td>\n",
       "      <td>3.01</td>\n",
       "      <td>2022</td>\n",
       "      <td>2021</td>\n",
       "      <td>23527.0</td>\n",
       "      <td>125677.0</td>\n",
       "      <td>378287.77</td>\n",
       "    </tr>\n",
       "    <tr>\n",
       "      <th>123</th>\n",
       "      <td>United States 6 7</td>\n",
       "      <td>138571.0</td>\n",
       "      <td>44016.0</td>\n",
       "      <td>2.52</td>\n",
       "      <td>2023</td>\n",
       "      <td>2022</td>\n",
       "      <td>23181.0</td>\n",
       "      <td>117736.0</td>\n",
       "      <td>296694.72</td>\n",
       "    </tr>\n",
       "  </tbody>\n",
       "</table>\n",
       "</div>"
      ],
      "text/plain": [
       "                 state  production_1000lbs_cy  stock_1000lbs_cy  \\\n",
       "41   United States 6 7               126466.0           23527.0   \n",
       "82   United States 6 7               125331.0           23181.0   \n",
       "123  United States 6 7               138571.0           44016.0   \n",
       "\n",
       "     price_per_lbs_cy  current_year  year_prior  stock_1000lbs_yp  \\\n",
       "41               2.54          2021        2020           39715.0   \n",
       "82               3.01          2022        2021           23527.0   \n",
       "123              2.52          2023        2022           23181.0   \n",
       "\n",
       "     sales_1000lbs  sales_1000dollars  \n",
       "41        142654.0          362341.16  \n",
       "82        125677.0          378287.77  \n",
       "123       117736.0          296694.72  "
      ]
     },
     "execution_count": 40,
     "metadata": {},
     "output_type": "execute_result"
    }
   ],
   "source": [
    "honey_sales.loc[honey_sales['state'] == 'United States 6 7']"
   ]
  },
  {
   "cell_type": "markdown",
   "id": "c7fa6a48-5d35-4cb8-a85b-66540685c494",
   "metadata": {},
   "source": [
    "##### Risk: Colony Loss"
   ]
  },
  {
   "cell_type": "code",
   "execution_count": 42,
   "id": "85b37eb8-fd4e-47e7-91b2-67391488a2fe",
   "metadata": {},
   "outputs": [
    {
     "data": {
      "image/png": "[encoded data removed]",
      "text/plain": [
       "<Figure size 640x480 with 1 Axes>"
      ]
     },
     "metadata": {},
     "output_type": "display_data"
    }
   ],
   "source": [
    "sns.lineplot(data = honey.loc[honey['state'] == \"United States 6 7\"], x = 'year', y = 'honey_producing_colonies_1000s', color = \"#E1C223\")\n",
    "plt.xticks([2020,2021,2022,2023])\n",
    "plt.ylabel(\"Honey Producing Colonies (in thousands)\")\n",
    "plt.xlabel('Year');"
   ]
  },
  {
   "cell_type": "markdown",
   "id": "2055b37b-ec25-4252-b224-48e2b8e88da7",
   "metadata": {},
   "source": [
    "### Comparison Analysis"
   ]
  },
  {
   "cell_type": "code",
   "execution_count": 160,
   "id": "d5b00a00-f033-499b-9748-0a4b8be69342",
   "metadata": {},
   "outputs": [
    {
     "name": "stderr",
     "output_type": "stream",
     "text": [
      "C:\\Users\\Owner\\AppData\\Local\\Temp\\ipykernel_16292\\2453916402.py:5: SettingWithCopyWarning: \n",
      "A value is trying to be set on a copy of a slice from a DataFrame.\n",
      "Try using .loc[row_indexer,col_indexer] = value instead\n",
      "\n",
      "See the caveats in the documentation: https://pandas.pydata.org/pandas-docs/stable/user_guide/indexing.html#returning-a-view-versus-a-copy\n",
      "  bee_total_rev_yoy_concat['Entity'] = 'Bees'\n"
     ]
    },
    {
     "data": {
      "image/png": "[encoded data removed]",
      "text/plain": [
       "<Figure size 603.125x500 with 1 Axes>"
      ]
     },
     "metadata": {},
     "output_type": "display_data"
    }
   ],
   "source": [
    "#### YoY Revenue\n",
    "rev_yoy_concat = rev_yoy.rename(columns = {'Year':'year','Revenue':'total_revenue'})\n",
    "rev_yoy_concat['Entity'] = 'Bumble'\n",
    "bee_total_rev_yoy_concat = bee_total_rev_yoy\n",
    "bee_total_rev_yoy_concat['Entity'] = 'Bees'\n",
    "rev_catplot = pd.concat([rev_yoy_concat, bee_total_rev_yoy])\n",
    "\n",
    "custom_palette = sns.color_palette([\"#666666\",\"#E1C233\"])\n",
    "sns.catplot(kind = 'bar',data = rev_catplot, x = 'year', y = 'total_revenue', hue = 'Entity', palette=custom_palette )\n",
    "plt.ylabel('Revenue (Thousands of Dollars)')\n",
    "plt.gcf().axes[0].yaxis.get_major_formatter().set_scientific(False)\n",
    "plt.xlabel('Year');"
   ]
  },
  {
   "cell_type": "code",
   "execution_count": 134,
   "id": "73464a23-9b82-41c5-a49f-2dd8c56eaae5",
   "metadata": {},
   "outputs": [
    {
     "data": {
      "image/png": "[encoded data removed]",
      "text/plain": [
       "<Figure size 640x480 with 1 Axes>"
      ]
     },
     "metadata": {},
     "output_type": "display_data"
    }
   ],
   "source": [
    "### Total Revenue\n",
    "tr_catplot = rev_catplot.groupby('Entity')['total_revenue'].sum().reset_index()\n",
    "sns.barplot(data = tr_catplot, x = 'Entity', y = 'total_revenue', hue = 'Entity', palette=custom_palette)\n",
    "plt.ylabel('Revenue (Thousands of Dollars)')\n"
   ]
  },
  {
   "cell_type": "code",
   "execution_count": 104,
   "id": "81b21731-76b5-4f65-a0a4-55aca61f5816",
   "metadata": {},
   "outputs": [],
   "source": [
    "#### YoY Profit Margin"
   ]
  },
  {
   "cell_type": "code",
   "execution_count": 106,
   "id": "225f3eba-e1ee-4755-b927-f338eb8718bf",
   "metadata": {
    "scrolled": true
   },
   "outputs": [
    {
     "name": "stderr",
     "output_type": "stream",
     "text": [
      "C:\\Users\\Owner\\AppData\\Local\\Temp\\ipykernel_16292\\1612336916.py:3: SettingWithCopyWarning: \n",
      "A value is trying to be set on a copy of a slice from a DataFrame.\n",
      "Try using .loc[row_indexer,col_indexer] = value instead\n",
      "\n",
      "See the caveats in the documentation: https://pandas.pydata.org/pandas-docs/stable/user_guide/indexing.html#returning-a-view-versus-a-copy\n",
      "  bumble_gross_profit_yoy['Entity'] = 'Bumble Inc'\n",
      "C:\\Users\\Owner\\AppData\\Local\\Temp\\ipykernel_16292\\1612336916.py:4: SettingWithCopyWarning: \n",
      "A value is trying to be set on a copy of a slice from a DataFrame.\n",
      "Try using .loc[row_indexer,col_indexer] = value instead\n",
      "\n",
      "See the caveats in the documentation: https://pandas.pydata.org/pandas-docs/stable/user_guide/indexing.html#returning-a-view-versus-a-copy\n",
      "  bee_gross_profit_yoy['Entity'] = 'Bees'\n"
     ]
    },
    {
     "data": {
      "image/png": "[encoded data removed]",
      "text/plain": [
       "<Figure size 627.875x500 with 1 Axes>"
      ]
     },
     "metadata": {},
     "output_type": "display_data"
    }
   ],
   "source": [
    "### Gross Profit\n",
    "bumble_gross_profit_yoy_concat = bumble_gross_profit_yoy.rename(columns = {'Year' : 'year'})\n",
    "bumble_gross_profit_yoy['Entity'] = 'Bumble Inc'\n",
    "bee_gross_profit_yoy['Entity'] = 'Bees'\n",
    "profit_amt_catplot = pd.concat([bumble_gross_profit_yoy_concat, bee_gross_profit_yoy])\n",
    "profit_amt_catplot['gross_profit'] = profit_amt_catplot['gross_profit'].round(0)\n",
    "\n",
    "\n",
    "sns.catplot(kind = 'bar',data = profit_amt_catplot, x = 'year', y = 'gross_profit', hue = 'Entity', palette=custom_palette)\n",
    "plt.ylabel ('Gross Profit (in thousands)')\n",
    "plt.xlabel('Year');\n"
   ]
  },
  {
   "cell_type": "code",
   "execution_count": 162,
   "id": "eb4d31e3-57c2-4238-860b-a15c35dec1ec",
   "metadata": {},
   "outputs": [
    {
     "name": "stderr",
     "output_type": "stream",
     "text": [
      "C:\\Users\\Owner\\AppData\\Local\\Temp\\ipykernel_16292\\3808062549.py:1: FutureWarning: \n",
      "\n",
      "The `errwidth` parameter is deprecated. And will be removed in v0.15.0. Pass `err_kws={'linewidth': 0}` instead.\n",
      "\n",
      "  sns.barplot(data = profit_amt_catplot, x = 'Entity', y = 'gross_profit', hue = 'Entity', errwidth=0, palette=custom_palette)\n"
     ]
    },
    {
     "data": {
      "image/png": "[encoded data removed]",
      "text/plain": [
       "<Figure size 640x480 with 1 Axes>"
      ]
     },
     "metadata": {},
     "output_type": "display_data"
    }
   ],
   "source": [
    "sns.barplot(data = profit_amt_catplot, x = 'Entity', y = 'gross_profit', hue = 'Entity', errwidth=0, palette=custom_palette)\n",
    "plt.ylabel ('Gross Profit (in Thousands of Dollars)')\n",
    "plt.xlabel('');\n"
   ]
  },
  {
   "cell_type": "code",
   "execution_count": 110,
   "id": "702a15fa-cbda-49a4-9587-7d791340dc46",
   "metadata": {},
   "outputs": [
    {
     "data": {
      "image/png": "[encoded data removed]",
      "text/plain": [
       "<Figure size 640x480 with 1 Axes>"
      ]
     },
     "metadata": {},
     "output_type": "display_data"
    }
   ],
   "source": [
    "profit_comparison = pd.merge(bee_profit_yoy, bumble_profit_yoy, left_on = 'year', right_on = 'Year')\n",
    "profit_comparison\n",
    "sns.lineplot(data=bumble_profit_yoy, x='Year', y='gross_profit_margin', label='Bumble Inc.', color = \"#666666\")\n",
    "sns.lineplot(data=bee_profit_yoy, x='year', y='profit_margin', label='Bees', color = \"#E1C233\")\n",
    "plt.xticks(bee_profit_yoy['year'])\n",
    "plt.xlabel('Year')\n",
    "plt.ylabel('Gross Profit Margin (Percentage)')\n",
    "plt.ylim(0, 100);"
   ]
  },
  {
   "cell_type": "code",
   "execution_count": 112,
   "id": "24fe6e70-c2d3-4e86-8dfd-04ea1c53acb6",
   "metadata": {},
   "outputs": [
    {
     "data": {
      "image/png": "[encoded data removed]",
      "text/plain": [
       "<Figure size 640x480 with 1 Axes>"
      ]
     },
     "metadata": {},
     "output_type": "display_data"
    }
   ],
   "source": [
    "sns.scatterplot(data=bumble_profit_yoy, x='Year', y='gross_profit_margin', label='Bumble Inc.', color = \"#666666\")\n",
    "plt.xlim(2021, 2026)\n",
    "sns.regplot(data=bumble_profit_yoy, x='Year', y='gross_profit_margin', truncate = False, ci=None, color = \"#666666\")\n",
    "sns.scatterplot(data=bee_profit_yoy, x='year', y='profit_margin', label='Bees', color = \"#E1C233\")\n",
    "sns.regplot(data=bee_profit_yoy, x='year', y='profit_margin', truncate = False, ci=None, color = \"#E1C233\")\n",
    "plt.xlabel('Year')\n",
    "plt.ylabel('Gross Profit Margin (Percentage)')\n",
    "plt.ylim(0, 100);\n"
   ]
  },
  {
   "cell_type": "code",
   "execution_count": 114,
   "id": "a014c2a1-0711-45e4-8328-bbfd6174c486",
   "metadata": {},
   "outputs": [
    {
     "data": {
      "image/png": "[encoded data removed]",
      "text/plain": [
       "<Figure size 640x480 with 1 Axes>"
      ]
     },
     "metadata": {},
     "output_type": "display_data"
    }
   ],
   "source": [
    "plt.pie(data = total_bb_rev_stream, x = 'total', autopct='%1.0f%%', labels = ['Bumble', 'Badoo and Other Apps'], colors = ['#666666','lightgray'])\n",
    "plt.title('Division of Total Revenue (3 Years)');"
   ]
  },
  {
   "cell_type": "code",
   "execution_count": 140,
   "id": "19787968-656c-43c7-bf5b-19dd1e420a79",
   "metadata": {},
   "outputs": [
    {
     "data": {
      "image/png": "[encoded data removed]",
      "text/plain": [
       "<Figure size 640x480 with 1 Axes>"
      ]
     },
     "metadata": {},
     "output_type": "display_data"
    }
   ],
   "source": [
    "plt.pie(data = bee_rev_streams, x = 'sum', autopct='%1.0f%%', labels = ['Honey Production', 'Pollination and Other'], colors = [\"#E1C233\",'#F4EB79'])\n",
    "plt.title('Division of Total Revenue (3 Years)');"
   ]
  },
  {
   "cell_type": "code",
   "execution_count": 52,
   "id": "6f7539f5-c31c-4743-b1b8-60f3adfe511c",
   "metadata": {},
   "outputs": [
    {
     "data": {
      "text/plain": [
       "3    248232.714267\n",
       "Name: Share_of_Rev, dtype: float64"
      ]
     },
     "execution_count": 52,
     "metadata": {},
     "output_type": "execute_result"
    }
   ],
   "source": [
    "#Bee CEO and CFO Salaries\n",
    "bee_ceo = honey_rev_3_yr_avg * CEO\n",
    "bee_cfo = honey_rev_3_yr_avg * CFO\n",
    "bee_ceo"
   ]
  },
  {
   "cell_type": "code",
   "execution_count": 53,
   "id": "c5096bdb-5844-4e19-93e8-7963f7696a24",
   "metadata": {},
   "outputs": [],
   "source": [
    "avg_colonies_per_year = honey.groupby('year')['honey_producing_colonies_1000s'].sum().reset_index().drop([0])\n",
    "avg_colonies_per_year = avg_colonies_per_year['honey_producing_colonies_1000s'].mean()"
   ]
  },
  {
   "cell_type": "code",
   "execution_count": 54,
   "id": "39343e4e-de2a-4aff-a6b0-3fb2e23aec60",
   "metadata": {},
   "outputs": [
    {
     "data": {
      "text/plain": [
       "3    47.300441\n",
       "Name: Share_of_Rev, dtype: float64"
      ]
     },
     "execution_count": 54,
     "metadata": {},
     "output_type": "execute_result"
    }
   ],
   "source": [
    "shared_ceo_salary = bee_ceo/avg_colonies_per_year\n",
    "shared_ceo_salary"
   ]
  },
  {
   "cell_type": "code",
   "execution_count": null,
   "id": "17c0298c-fb7c-4a5f-bc98-64c1e0f2f9ea",
   "metadata": {},
   "outputs": [],
   "source": []
  },
  {
   "cell_type": "code",
   "execution_count": null,
   "id": "27a43000-988b-47a4-8a37-39c84bc3a099",
   "metadata": {},
   "outputs": [],
   "source": []
  }
 ],
 "metadata": {
  "kernelspec": {
   "display_name": "Python [conda env:base] *",
   "language": "python",
   "name": "conda-base-py"
  },
  "language_info": {
   "codemirror_mode": {
    "name": "ipython",
    "version": 3
   },
   "file_extension": ".py",
   "mimetype": "text/x-python",
   "name": "python",
   "nbconvert_exporter": "python",
   "pygments_lexer": "ipython3",
   "version": "3.12.7"
  }
 },
 "nbformat": 4,
 "nbformat_minor": 5
}
