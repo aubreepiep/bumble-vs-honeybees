{
 "cells": [
  {
   "cell_type": "markdown",
   "id": "263bf361-66c1-4e1b-a32c-75e532135930",
   "metadata": {},
   "source": [
    "### How would the annual performance reports of honey bees compare to the annual reports released by Bumble? What are the relative strengths and weaknesses of each entity and what opportunities and risks should potential stakeholders be aware of? \n",
    "#### Key Metrics (annually and 3 year average)\n",
    "-Revenue  \n",
    "-Gross Profit Margin  \n",
    "-Profit Margin  \n",
    "#### Other Questions\n",
    "-How would queen bees be compensated if they were paid on similar scale to bumble CEOs?  \n",
    "-How does each entity diversify revenue streams? What percentage of total revenue does each revenue stream make up?  \n",
    "-What other vulnerabilities may impact each entity?  "
   ]
  },
  {
   "cell_type": "code",
   "execution_count": null,
   "id": "dca0b89e-9b68-4b9d-b59d-16966e19e698",
   "metadata": {},
   "outputs": [],
   "source": [
    "#Library setup\n",
    "import pandas as pd\n",
    "import matplotlib.pyplot as plt\n",
    "import seaborn as sns\n",
    "import matplotlib.ticker as ticker\n",
    "import locale\n",
    "locale.setlocale(locale.LC_NUMERIC, 'en_US.UTF-8')\n"
   ]
  },
  {
   "cell_type": "markdown",
   "id": "a5ed1b4a-4559-434e-a486-e91a12dfde6d",
   "metadata": {},
   "source": [
    "### Bumble Inc Metrics"
   ]
  },
  {
   "cell_type": "code",
   "execution_count": null,
   "id": "3dff68be-b245-40a2-af00-f0905df83b46",
   "metadata": {
    "scrolled": true
   },
   "outputs": [],
   "source": [
    "#Read in and clean annual report data\n",
    "bb_op_costs23 = pd.read_csv('../data/bb_op_costs23.csv')\n",
    "bb_op_costs = bb_op_costs23.rename(columns = {'in_thousands': 'metric_in_thousands', 'ye_2023': '2023', 'ye_2022': '2022', 'ye_2021': '2021'})\n",
    "bb_op_costs = bb_op_costs.set_index('metric_in_thousands').transpose()\n",
    "bb_op_costs = bb_op_costs.reset_index()\n",
    "bb_op_costs = bb_op_costs.reset_index(drop = True).rename(columns={'index': 'Year'})\n",
    "bb_op_costs['Year'] = bb_op_costs['Year'].astype(int)\n",
    "\n",
    "bb_rev_streams = pd.read_csv('../data/bumble_rev_streams2023.csv')\n",
    "\n",
    "exec_comp = pd.read_csv('../data/2223bumble_exec_comp.csv')"
   ]
  },
  {
   "cell_type": "markdown",
   "id": "824f8bef-4473-4133-a1a1-c4d8812cf9e5",
   "metadata": {},
   "source": [
    "##### Revenue"
   ]
  },
  {
   "cell_type": "code",
   "execution_count": null,
   "id": "b72fa72a-5c30-4f7f-bc17-65d0a6f5098e",
   "metadata": {},
   "outputs": [],
   "source": [
    "#Format revenue values with locale to remove commas and cast as float\n",
    "bb_op_costs['Revenue'] = bb_op_costs['Revenue'].astype(str)\n",
    "rev_list = []\n",
    "for value in bb_op_costs['Revenue']:\n",
    "    rev_list.append(locale.atof(value))\n",
    "bb_op_costs['Revenue'] = rev_list"
   ]
  },
  {
   "cell_type": "code",
   "execution_count": null,
   "id": "efd49464-aaf8-48db-b6ea-5e3235d3cda2",
   "metadata": {},
   "outputs": [],
   "source": [
    "#Revenue: 3yr Average and Year-over-Year\n",
    "rev_3yr_avg = bb_op_costs['Revenue'].mean()\n",
    "rev_yoy = bb_op_costs[['Year','Revenue']]\n"
   ]
  },
  {
   "cell_type": "markdown",
   "id": "0f1fd2b6-7878-4c01-9826-8193b531942b",
   "metadata": {},
   "source": [
    "##### Gross Margin"
   ]
  },
  {
   "cell_type": "code",
   "execution_count": null,
   "id": "25cd402c-bf12-43e8-8c59-ad467234ac51",
   "metadata": {},
   "outputs": [],
   "source": [
    "#Format cost values with locale to remove commas\n",
    "bb_op_costs['Generalandadministrativeexpense'] = bb_op_costs['Generalandadministrativeexpense'].astype(str)\n",
    "gae_list = []\n",
    "for value in bb_op_costs['Generalandadministrativeexpense']:\n",
    "    gae_list.append(locale.atof(value))\n",
    "bb_op_costs['Generalandadministrativeexpense'] = gae_list\n",
    "\n",
    "bb_op_costs['Productdevelopmentexpense'] = bb_op_costs['Productdevelopmentexpense'].astype(str)\n",
    "pde_list = []\n",
    "for value in bb_op_costs['Productdevelopmentexpense']:\n",
    "    pde_list.append(locale.atof(value))\n",
    "bb_op_costs['Productdevelopmentexpense'] = pde_list"
   ]
  },
  {
   "cell_type": "code",
   "execution_count": null,
   "id": "341e41bb-1a08-4c2b-8e75-4b6fcece0e46",
   "metadata": {},
   "outputs": [],
   "source": [
    "#Calculate Profit and Profit Margin\n",
    "bb_op_costs['gross_profit_margin'] = ((bb_op_costs['Revenue'] - bb_op_costs['Productdevelopmentexpense'] - bb_op_costs['Generalandadministrativeexpense'])/(bb_op_costs['Revenue']))*100\n",
    "bumble_profit_yoy = bb_op_costs[['Year','gross_profit_margin']]\n",
    "bb_op_costs['gross_profit'] = bb_op_costs['Revenue'] - bb_op_costs['Productdevelopmentexpense'] - bb_op_costs['Generalandadministrativeexpense']\n",
    "bumble_gross_profit_yoy = bb_op_costs[['Year','gross_profit']]"
   ]
  },
  {
   "cell_type": "markdown",
   "id": "799c67df-1bbb-4436-a4f4-93e3b32f7618",
   "metadata": {},
   "source": [
    "##### Revenue Streams"
   ]
  },
  {
   "cell_type": "code",
   "execution_count": null,
   "id": "13d7965b-7ee2-455e-a470-fdc3c20766d7",
   "metadata": {},
   "outputs": [],
   "source": [
    "bb_rev_stream = bb_rev_streams.set_index('Column1').transpose().reset_index().rename(columns = {'index':'year'})\n",
    "bb_rev_stream.loc['total'] = bb_rev_stream.sum(numeric_only=True, axis=0)\n",
    "total_bb_rev_stream = bb_rev_stream.loc['total'].reset_index().drop([0,3]).rename(columns = {'Column1': 'Revenue Stream'})\n",
    "total_bb_rev_stream['total'] = total_bb_rev_stream['total'].astype(float)\n",
    "total_bb_rev_stream"
   ]
  },
  {
   "cell_type": "markdown",
   "id": "68d3ac4c-7407-447c-a87f-d9f089ec00c5",
   "metadata": {},
   "source": [
    "##### Exec Comp"
   ]
  },
  {
   "cell_type": "code",
   "execution_count": null,
   "id": "95db0720-d961-4075-827b-43fc8f91d5da",
   "metadata": {},
   "outputs": [],
   "source": [
    "exec_comp['Salary'] = exec_comp['Salary'].astype(str)\n",
    "exc_list = []\n",
    "for value in exec_comp['Salary']:\n",
    "    exc_list.append(locale.atof(value))\n",
    "exec_comp['Salary'] = exc_list\n",
    "\n",
    "avg_salary = exec_comp.groupby('Name and Principal Position')['Salary'].mean().reset_index()\n",
    "avg_salary['Avg_Revenue'] = rev_3yr_avg\n",
    "avg_salary['Share_of_Rev'] = avg_salary['Salary']/(avg_salary['Avg_Revenue'])\n",
    "CFO = avg_salary.loc[avg_salary['Name and Principal Position'] == 'Anuradha B. Subramanian, Chief Financial Officer']['Share_of_Rev']\n",
    "CEO = avg_salary.loc[avg_salary['Name and Principal Position'] == 'Whitney Wolfe Herd, Executive Chair; Former Chief Executive Officer']['Share_of_Rev']"
   ]
  },
  {
   "cell_type": "markdown",
   "id": "1e421fa6-8829-4b0f-8392-23c0b36ed482",
   "metadata": {},
   "source": [
    "### Honey Bee Metrics"
   ]
  },
  {
   "cell_type": "code",
   "execution_count": null,
   "id": "3775d207-bde4-40fb-b7bc-cd02b8513974",
   "metadata": {},
   "outputs": [],
   "source": [
    "#Read in and consolidate USDA honey info\n",
    "honey23 = pd.read_csv('../data/23Nasshoney.csv')\n",
    "honey22 = pd.read_csv('../data/22Nasshoney.csv')\n",
    "honey21 = pd.read_csv('../data/21Nasshoney.csv')\n",
    "honey20 = pd.read_csv('../data/20Nasshoney.csv')\n",
    "\n",
    "honey = pd.concat([honey20,honey21, honey22, honey23])\n",
    "\n",
    "inc_exp2223 = pd.read_csv('../data/2223Nass_inc_and_exp.csv')\n",
    "inc_exp2021 = pd.read_csv('../data/2021inc_exp.csv')\n",
    "inc_exp2021['Item'] = inc_exp2021['Item'].str.replace(' 1','').str.replace(' 2','').str.replace(' 3','').str.replace('Expenditures\\n','').str.strip()\n",
    "inc_exp2223['Item'] = inc_exp2223['Item'].str.replace(' 1','').str.replace(' 2','').str.replace(' 3','').str.replace('Expenditures\\n','').str.strip()\n",
    "inc_exp2223['Item'] = inc_exp2223['Item'].str.strip()\n",
    "\n",
    "inc_exp = pd.merge(inc_exp2021,inc_exp2223, how = 'outer', left_on = ['Item','inc_exp'], right_on = ['Item','inc_exp'])\n",
    "inc_exp"
   ]
  },
  {
   "cell_type": "markdown",
   "id": "3e9d88e5-bd3c-4593-a27b-761bc29164cf",
   "metadata": {},
   "source": [
    "##### Revenue"
   ]
  },
  {
   "cell_type": "code",
   "execution_count": null,
   "id": "825c2c36-746e-42dd-89d4-ddc324d1c0d8",
   "metadata": {},
   "outputs": [],
   "source": [
    "#Honey Sales Revenue\n",
    "#Calculate annual honey sales by determing YoY depletion of stockpiles\n",
    "honey['year_prior'] = honey['year'] - 1\n",
    "honey_sales = pd.merge(honey, honey, left_on = ['state','year_prior'], right_on = ['state','year'])\n",
    "honey_sales = honey_sales[['state', 'production_1000lbs_x','stock_1000lbs_x','price_per_lbs_x', 'year_x', 'year_prior_x', 'stock_1000lbs_y']]\n",
    "honey_sales = honey_sales.rename(columns = { 'production_1000lbs_x': 'production_1000lbs_cy','stock_1000lbs_x':'stock_1000lbs_cy','price_per_lbs_x':'price_per_lbs_cy', 'year_x':'current_year', 'year_prior_x':'year_prior', 'stock_1000lbs_y':'stock_1000lbs_yp'})"
   ]
  },
  {
   "cell_type": "code",
   "execution_count": null,
   "id": "37f9f3c6-a15b-4338-aa67-1b58b4d07d97",
   "metadata": {},
   "outputs": [],
   "source": [
    "#Format production numbers using locale\n",
    "honey_sales['production_1000lbs_cy'] = honey_sales['production_1000lbs_cy'].astype(str)\n",
    "pcy_list = []\n",
    "for value in honey_sales['production_1000lbs_cy']:\n",
    "    pcy_list.append(locale.atof(value))\n",
    "honey_sales['production_1000lbs_cy'] = pcy_list"
   ]
  },
  {
   "cell_type": "code",
   "execution_count": null,
   "id": "4f461878-1abb-473b-903e-ad5698480cb5",
   "metadata": {},
   "outputs": [],
   "source": [
    "#Format stock numbers (current year) using locale\n",
    "honey_sales['stock_1000lbs_cy'] = honey_sales['stock_1000lbs_cy'].astype(str)\n",
    "scy_list = []\n",
    "for value in honey_sales['stock_1000lbs_cy']:\n",
    "    scy_list.append(locale.atof(value))\n",
    "honey_sales['stock_1000lbs_cy'] = scy_list"
   ]
  },
  {
   "cell_type": "code",
   "execution_count": null,
   "id": "30dafe58-8694-4371-aa50-f4111bfdafb7",
   "metadata": {},
   "outputs": [],
   "source": [
    "#Format stock numbers (prior year) using locale\n",
    "honey_sales['stock_1000lbs_yp'] = honey_sales['stock_1000lbs_yp'].astype(str)\n",
    "spy_list = []\n",
    "for value in honey_sales['stock_1000lbs_yp']:\n",
    "    spy_list.append(locale.atof(value))\n",
    "honey_sales['stock_1000lbs_yp'] = spy_list"
   ]
  },
  {
   "cell_type": "code",
   "execution_count": null,
   "id": "aff681ca-af5b-45ca-a028-a0c3d3450be0",
   "metadata": {},
   "outputs": [],
   "source": [
    "#Calculate annual sales (in 1000 pounds and in 1000 dollars)\n",
    "honey_sales['sales_1000lbs'] = (honey_sales['stock_1000lbs_yp'] + honey_sales['production_1000lbs_cy'] - honey_sales['stock_1000lbs_cy'])\n",
    "honey_sales['sales_1000dollars'] = honey_sales['sales_1000lbs'] * honey_sales['price_per_lbs_cy']"
   ]
  },
  {
   "cell_type": "code",
   "execution_count": null,
   "id": "b78b4204-8959-41bb-a059-f5f4b78116e0",
   "metadata": {},
   "outputs": [],
   "source": [
    "#Honey sales revenue: 3yr Average and YoY\n",
    "honey_rev_3_yr_avg = honey_sales.loc[honey_sales['state'] == 'United States 6 7']['sales_1000dollars'].mean()\n",
    "honey_rev_yoy = honey_sales.loc[honey_sales['state'] == 'United States 6 7'][['current_year','sales_1000dollars']]"
   ]
  },
  {
   "cell_type": "code",
   "execution_count": null,
   "id": "37e10840-0e4d-45ae-af8c-fb02694bc9f8",
   "metadata": {},
   "outputs": [],
   "source": [
    "#Other Revenue plus expenses"
   ]
  },
  {
   "cell_type": "code",
   "execution_count": null,
   "id": "f9ec0178-2c8b-4bb0-beff-ea399f612292",
   "metadata": {},
   "outputs": [],
   "source": [
    "#format income and expendiyure numbers using locale\n",
    "inc_exp['2021_1000dollars'] = inc_exp['2021_1000dollars'].astype(str)\n",
    "ie21_list = []\n",
    "for value in inc_exp['2021_1000dollars']:\n",
    "    ie21_list.append(locale.atof(value))\n",
    "inc_exp['2021_1000dollars'] = ie21_list\n",
    "\n",
    "inc_exp['2022_1000dollars'] = inc_exp['2022_1000dollars'].astype(str)\n",
    "ie22_list = []\n",
    "for value in inc_exp['2022_1000dollars']:\n",
    "    ie22_list.append(locale.atof(value))\n",
    "inc_exp['2022_1000dollars'] = ie22_list\n",
    "\n",
    "inc_exp['2023_1000dollars'] = inc_exp['2023_1000dollars'].astype(str)\n",
    "ie23_list = []\n",
    "for value in inc_exp['2023_1000dollars']:\n",
    "    ie23_list.append(locale.atof(value))\n",
    "inc_exp['2023_1000dollars'] = ie23_list"
   ]
  },
  {
   "cell_type": "code",
   "execution_count": null,
   "id": "4cc05a8b-e1fa-4904-8f9b-6d59faa8c50b",
   "metadata": {},
   "outputs": [],
   "source": [
    "#rearrange income and expenditure table so it can be joined with revenue table\n",
    "inc_exp_grped = inc_exp[['inc_exp','2021_1000dollars','2022_1000dollars', '2023_1000dollars']]\n",
    "inc_exp_grped = inc_exp_grped.groupby('inc_exp').sum().transpose().reset_index().rename(columns = {'index': 'year', 'Expenditure': 'exp_1000dollars', 'Income': 'other_income_1000dollars'})\n",
    "inc_exp_grped['year'] = inc_exp_grped['year'].str[0:4].astype(int)\n",
    "inc_exp_grped"
   ]
  },
  {
   "cell_type": "code",
   "execution_count": null,
   "id": "b00bca0b-fa57-4887-b124-e4b19ddbf758",
   "metadata": {},
   "outputs": [],
   "source": [
    "#merge revenue table with income and expenditure table\n",
    "all_rev_exp = pd.merge(honey_rev_yoy, inc_exp_grped, left_on = 'current_year', right_on = 'year')\n",
    "all_rev_exp = all_rev_exp[['year', 'sales_1000dollars', 'other_income_1000dollars','exp_1000dollars']]"
   ]
  },
  {
   "cell_type": "code",
   "execution_count": null,
   "id": "98b78abf-5779-4269-a59e-c363bd870e7d",
   "metadata": {},
   "outputs": [],
   "source": [
    "# Total Revenue 3yr Avg and YoY\n",
    "all_rev_exp ['total_revenue'] = all_rev_exp['sales_1000dollars'] + all_rev_exp['other_income_1000dollars']\n",
    "bee_total_rev_3yr = all_rev_exp['total_revenue'].mean()\n",
    "bee_total_rev_yoy = all_rev_exp[['year','total_revenue']]\n",
    "bee_total_rev_yoy"
   ]
  },
  {
   "cell_type": "markdown",
   "id": "f1b92969-b02e-4f28-8c1f-955c80e60509",
   "metadata": {},
   "source": [
    "##### Gross Profit Margin\n"
   ]
  },
  {
   "cell_type": "code",
   "execution_count": null,
   "id": "27e02edb-3805-4292-8525-f927e148fdac",
   "metadata": {},
   "outputs": [],
   "source": [
    "#Gross Profit\n",
    "all_rev_exp['gross_profit'] = all_rev_exp['sales_1000dollars'] + all_rev_exp['other_income_1000dollars'] - all_rev_exp['exp_1000dollars']\n",
    "bee_gross_profit_yoy = all_rev_exp[['year','gross_profit']]"
   ]
  },
  {
   "cell_type": "code",
   "execution_count": null,
   "id": "436d0b39-b258-4c43-957f-b768a5a3dd5d",
   "metadata": {},
   "outputs": [],
   "source": [
    "#Gross Profit Margin\n",
    "all_rev_exp['profit_margin'] = (all_rev_exp['gross_profit']/all_rev_exp['total_revenue'])*100\n",
    "bee_profit_3yr_avg = (all_rev_exp['gross_profit'].sum())/(all_rev_exp['total_revenue'].sum())\n",
    "bee_profit_yoy = all_rev_exp[['year','profit_margin']]"
   ]
  },
  {
   "cell_type": "markdown",
   "id": "03f45784-d483-4d3d-92e8-7bde9f995b12",
   "metadata": {},
   "source": [
    "##### Revenue Streams"
   ]
  },
  {
   "cell_type": "code",
   "execution_count": null,
   "id": "c72b691e-be5e-4e18-872a-9fd49e9db220",
   "metadata": {},
   "outputs": [],
   "source": [
    "all_rev_exp.loc['sum'] = all_rev_exp.sum()\n",
    "bee_rev_streams = all_rev_exp[['sales_1000dollars','other_income_1000dollars']].loc['sum'].reset_index().rename(columns = {'index': 'Revenue Stream'})"
   ]
  },
  {
   "cell_type": "markdown",
   "id": "45f029bf-7199-4fcb-a8cd-468eecb64394",
   "metadata": {},
   "source": [
    "##### Vulnerabilities : Honey Costs Over Time"
   ]
  },
  {
   "cell_type": "code",
   "execution_count": null,
   "id": "6b89cf83-3ee7-40ed-87d6-dfcc318a16ab",
   "metadata": {},
   "outputs": [],
   "source": [
    "honey_sales.loc[honey_sales['state'] == 'United States 6 7']"
   ]
  },
  {
   "cell_type": "markdown",
   "id": "c7fa6a48-5d35-4cb8-a85b-66540685c494",
   "metadata": {},
   "source": [
    "##### Vulnerabilities: Colony Loss"
   ]
  },
  {
   "cell_type": "code",
   "execution_count": null,
   "id": "85b37eb8-fd4e-47e7-91b2-67391488a2fe",
   "metadata": {},
   "outputs": [],
   "source": [
    "#Chart with y axis starting at 2500\n",
    "sns.lineplot(data = honey.loc[honey['state'] == \"United States 6 7\"], x = 'year', y = 'honey_producing_colonies_1000s', color = \"#E1C223\")\n",
    "plt.xticks([2020,2021,2022,2023])\n",
    "plt.ylabel(\"Honey Producing Colonies (in thousands)\")\n",
    "plt.xlabel('Year')\n",
    "def format_func(value, tick_number):\n",
    "    return f'{float(value / 1000)}m'\n",
    "\n",
    "plt.gca().yaxis.set_major_formatter(ticker.FuncFormatter(format_func));"
   ]
  },
  {
   "cell_type": "code",
   "execution_count": null,
   "id": "740d2e6b-d3a2-4733-ad50-4403bf9727a2",
   "metadata": {},
   "outputs": [],
   "source": [
    "#chart with y axis starting at 0\n",
    "sns.lineplot(data = honey.loc[honey['state'] == \"United States 6 7\"], x = 'year', y = 'honey_producing_colonies_1000s', color = \"#E1C223\")\n",
    "plt.xticks([2020,2021,2022,2023])\n",
    "plt.ylabel(\"Honey Producing Colonies\")\n",
    "plt.xlabel('Year')\n",
    "plt.ylim(0,2900)\n",
    "def format_func(value, tick_number):\n",
    "    return f'{float(value / 1000)}m'\n",
    "\n",
    "plt.gca().yaxis.set_major_formatter(ticker.FuncFormatter(format_func))"
   ]
  },
  {
   "cell_type": "markdown",
   "id": "2055b37b-ec25-4252-b224-48e2b8e88da7",
   "metadata": {},
   "source": [
    "### Comparison Analysis"
   ]
  },
  {
   "cell_type": "markdown",
   "id": "61d21427-28b1-4e51-a233-3dcfaeef3537",
   "metadata": {},
   "source": [
    "#### Revenue"
   ]
  },
  {
   "cell_type": "code",
   "execution_count": null,
   "id": "d5b00a00-f033-499b-9748-0a4b8be69342",
   "metadata": {},
   "outputs": [],
   "source": [
    "# YoY Revenue\n",
    "rev_yoy_concat = rev_yoy.rename(columns = {'Year':'year','Revenue':'total_revenue'})\n",
    "rev_yoy_concat['Entity'] = 'Bumble'\n",
    "bee_total_rev_yoy_concat = bee_total_rev_yoy\n",
    "bee_total_rev_yoy_concat['Entity'] = 'Bees'\n",
    "rev_catplot = pd.concat([rev_yoy_concat, bee_total_rev_yoy])\n",
    "\n",
    "custom_palette = sns.color_palette([\"#666666\",\"#E1C233\"])\n",
    "sns.catplot(kind = 'bar',data = rev_catplot, x = 'year', y = 'total_revenue', hue = 'Entity', palette=custom_palette )\n",
    "plt.ylabel('Revenue (Thousands of Dollars)')\n",
    "plt.gcf().axes[0].yaxis.get_major_formatter().set_scientific(False)\n",
    "plt.xlabel('Year');"
   ]
  },
  {
   "cell_type": "code",
   "execution_count": null,
   "id": "f6532548-4a88-4a9d-a7cf-015bf66492a1",
   "metadata": {},
   "outputs": [],
   "source": [
    "#Reformatted as Billions\n",
    "#YoY Revenue\n",
    "rev_yoy_concat = rev_yoy.rename(columns = {'Year':'year','Revenue':'total_revenue'})\n",
    "rev_yoy_concat['Entity'] = 'Bumble'\n",
    "bee_total_rev_yoy_concat = bee_total_rev_yoy\n",
    "bee_total_rev_yoy_concat['Entity'] = 'Bees'\n",
    "rev_catplot = pd.concat([rev_yoy_concat, bee_total_rev_yoy])\n",
    "\n",
    "custom_palette = sns.color_palette([\"#666666\",\"#E1C233\"])\n",
    "sns.catplot(kind = 'bar',data = rev_catplot, x = 'year', y = 'total_revenue', hue = 'Entity', palette=custom_palette )\n",
    "plt.ylabel('Revenue')\n",
    "def format_func(value, tick_number):\n",
    "    return f'${float(value / 1000000)}b'\n",
    "\n",
    "plt.gca().yaxis.set_major_formatter(ticker.FuncFormatter(format_func));"
   ]
  },
  {
   "cell_type": "code",
   "execution_count": null,
   "id": "73464a23-9b82-41c5-a49f-2dd8c56eaae5",
   "metadata": {},
   "outputs": [],
   "source": [
    "# Total Revenue\n",
    "custom_palette = sns.color_palette([\"#666666\",\"#E1C233\"])\n",
    "tr_catplot = rev_catplot.groupby('Entity')['total_revenue'].sum().reset_index().sort_values('Entity', ascending = False)\n",
    "sns.barplot(data = tr_catplot, x = 'Entity', y = 'total_revenue', hue = 'Entity', palette=custom_palette)\n",
    "plt.ylabel('Revenue (Thousands of Dollars)')\n",
    "plt.gcf().axes[0].yaxis.get_major_formatter().set_scientific(False);\n"
   ]
  },
  {
   "cell_type": "code",
   "execution_count": null,
   "id": "e9e57123-d924-4341-a441-a4f7a9313b55",
   "metadata": {},
   "outputs": [],
   "source": [
    "tr_catplot"
   ]
  },
  {
   "cell_type": "code",
   "execution_count": null,
   "id": "893cf743-fbd5-4254-a585-cef487563594",
   "metadata": {},
   "outputs": [],
   "source": [
    "#Reformatted as Billions\n",
    "#Total Revenue\n",
    "ax = sns.barplot(data = tr_catplot, x = 'Entity', y = 'total_revenue', hue = 'Entity', palette = custom_palette)\n",
    "plt.ylabel('Revenue')\n",
    "def format_func(value, tick_number):\n",
    "    return f'${float(value / 1000000)}b'\n",
    "\n",
    "plt.gca().yaxis.set_major_formatter(ticker.FuncFormatter(format_func));"
   ]
  },
  {
   "cell_type": "markdown",
   "id": "4f2e402b-a11b-488f-bd95-31dde4b6f9d6",
   "metadata": {},
   "source": [
    "#### Profit Comparisons"
   ]
  },
  {
   "cell_type": "code",
   "execution_count": null,
   "id": "225f3eba-e1ee-4755-b927-f338eb8718bf",
   "metadata": {
    "scrolled": true
   },
   "outputs": [],
   "source": [
    "# Gross Profit YoY\n",
    "bumble_gross_profit_yoy_concat = bumble_gross_profit_yoy.rename(columns = {'Year' : 'year'})\n",
    "bumble_gross_profit_yoy['Entity'] = 'Bumble Inc'\n",
    "bee_gross_profit_yoy['Entity'] = 'Bees'\n",
    "profit_amt_catplot = pd.concat([bumble_gross_profit_yoy_concat, bee_gross_profit_yoy])\n",
    "profit_amt_catplot['gross_profit'] = profit_amt_catplot['gross_profit'].round(0)\n",
    "\n",
    "\n",
    "sns.catplot(kind = 'bar',data = profit_amt_catplot, x = 'year', y = 'gross_profit', hue = 'Entity', palette=custom_palette)\n",
    "plt.ylabel ('Gross Profit (in thousands)')\n",
    "plt.xlabel('Year');\n"
   ]
  },
  {
   "cell_type": "code",
   "execution_count": null,
   "id": "94f0b58e-8920-45c9-819e-3c2316c8e22f",
   "metadata": {
    "scrolled": true
   },
   "outputs": [],
   "source": [
    "# Reformatted as Billions\n",
    "# Gross Profit YoY\n",
    "bumble_gross_profit_yoy_concat = bumble_gross_profit_yoy.rename(columns = {'Year' : 'year'})\n",
    "bumble_gross_profit_yoy['Entity'] = 'Bumble Inc'\n",
    "bee_gross_profit_yoy['Entity'] = 'Bees'\n",
    "profit_amt_catplot = pd.concat([bumble_gross_profit_yoy_concat, bee_gross_profit_yoy])\n",
    "profit_amt_catplot['gross_profit'] = profit_amt_catplot['gross_profit'].round(0)\n",
    "\n",
    "\n",
    "sns.catplot(kind = 'bar',data = profit_amt_catplot, x = 'year', y = 'gross_profit', hue = 'Entity', palette=custom_palette)\n",
    "plt.ylabel ('Gross Profit')\n",
    "plt.xlabel('Year')\n",
    "def format_func(value, tick_number):\n",
    "    return f'${float(value / 1000000)}b'\n",
    "\n",
    "plt.gca().yaxis.set_major_formatter(ticker.FuncFormatter(format_func));\n"
   ]
  },
  {
   "cell_type": "code",
   "execution_count": null,
   "id": "eb4d31e3-57c2-4238-860b-a15c35dec1ec",
   "metadata": {},
   "outputs": [],
   "source": [
    "# Gross Profit 3yr Total\n",
    "sns.barplot(data = profit_amt_catplot, x = 'Entity', y = 'gross_profit', hue = 'Entity', errwidth=0, palette=custom_palette)\n",
    "plt.ylabel ('Gross Profit (in Thousands of Dollars)')\n",
    "plt.xlabel('');\n"
   ]
  },
  {
   "cell_type": "code",
   "execution_count": null,
   "id": "8a5fcd8e-bc2a-4ae4-b2e9-7d70badd238c",
   "metadata": {},
   "outputs": [],
   "source": [
    "total_profit_catplot= profit_amt_catplot.groupby('Entity')['gross_profit'].sum().reset_index().sort_values('Entity', ascending = False)\n",
    "total_profit_catplot"
   ]
  },
  {
   "cell_type": "code",
   "execution_count": null,
   "id": "c2cd790e-2b34-462d-b533-c0c4a4e329eb",
   "metadata": {},
   "outputs": [],
   "source": [
    "#Reformatted as Billions\n",
    "#Gross Profit 3yr Total\n",
    "total_profit_catplot= profit_amt_catplot.groupby('Entity')['gross_profit'].sum().reset_index().sort_values('Entity', ascending = False)\n",
    "sns.barplot(data = total_profit_catplot, x = 'Entity', y = 'gross_profit', hue = 'Entity', errwidth=0, palette=custom_palette)\n",
    "plt.ylabel ('Gross Profit')\n",
    "plt.xlabel('')\n",
    "def format_func(value, tick_number):\n",
    "    return f'${float(value / 1000000)}b'\n",
    "\n",
    "plt.gca().yaxis.set_major_formatter(ticker.FuncFormatter(format_func));\n"
   ]
  },
  {
   "cell_type": "code",
   "execution_count": null,
   "id": "702a15fa-cbda-49a4-9587-7d791340dc46",
   "metadata": {},
   "outputs": [],
   "source": [
    "#YoY Profit Margin\n",
    "profit_comparison = pd.merge(bee_profit_yoy, bumble_profit_yoy, left_on = 'year', right_on = 'Year')\n",
    "profit_comparison\n",
    "sns.lineplot(data=bumble_profit_yoy, x='Year', y='gross_profit_margin', label='Bumble Inc.', color = \"#666666\")\n",
    "sns.lineplot(data=bee_profit_yoy, x='year', y='profit_margin', label='Bees', color = \"#E1C233\")\n",
    "plt.xticks(bee_profit_yoy['year'])\n",
    "plt.xlabel('Year')\n",
    "plt.ylabel('Gross Profit Margin (Percentage)')\n",
    "plt.ylim(0, 100);"
   ]
  },
  {
   "cell_type": "code",
   "execution_count": null,
   "id": "24fe6e70-c2d3-4e86-8dfd-04ea1c53acb6",
   "metadata": {},
   "outputs": [],
   "source": [
    "#YoY Profit Margin Extended\n",
    "sns.scatterplot(data=bumble_profit_yoy, x='Year', y='gross_profit_margin', label='Bumble Inc.', color = \"#666666\")\n",
    "plt.xlim(2021, 2026)\n",
    "sns.regplot(data=bumble_profit_yoy, x='Year', y='gross_profit_margin', truncate = False, ci=None, color = \"#666666\")\n",
    "sns.scatterplot(data=bee_profit_yoy, x='year', y='profit_margin', label='Bees', color = \"#E1C233\")\n",
    "sns.regplot(data=bee_profit_yoy, x='year', y='profit_margin', truncate = False, ci=None, color = \"#E1C233\")\n",
    "plt.xlabel('Year')\n",
    "plt.ylabel('Gross Profit Margin (Percentage)')\n",
    "plt.ylim(0, 100);\n"
   ]
  },
  {
   "cell_type": "code",
   "execution_count": null,
   "id": "97448abc-0941-418e-b3e6-db5c97b6b5a2",
   "metadata": {},
   "outputs": [],
   "source": [
    "#### Revenue Streams"
   ]
  },
  {
   "cell_type": "code",
   "execution_count": null,
   "id": "a014c2a1-0711-45e4-8328-bbfd6174c486",
   "metadata": {},
   "outputs": [],
   "source": [
    "#Bumble Revenue Streams\n",
    "plt.pie(data = total_bb_rev_stream, x = 'total', autopct='%1.0f%%', labels = ['Bumble', 'Badoo and Other Apps'], colors = ['#666666','lightgray'])\n",
    "plt.title('Division of Total Revenue (3 Years)');"
   ]
  },
  {
   "cell_type": "code",
   "execution_count": null,
   "id": "19787968-656c-43c7-bf5b-19dd1e420a79",
   "metadata": {},
   "outputs": [],
   "source": [
    "#Bee Revenue Streams\n",
    "plt.pie(data = bee_rev_streams, x = 'sum', autopct='%1.0f%%', labels = ['Honey Production', 'Pollination and Other'], colors = [\"#E1C233\",'#F4EB79'])\n",
    "plt.title('Division of Total Revenue (3 Years)');"
   ]
  },
  {
   "cell_type": "code",
   "execution_count": null,
   "id": "a6b71228-dec7-43a2-9fe0-675b18263891",
   "metadata": {},
   "outputs": [],
   "source": [
    "#### Executive Compensation"
   ]
  },
  {
   "cell_type": "code",
   "execution_count": null,
   "id": "6f7539f5-c31c-4743-b1b8-60f3adfe511c",
   "metadata": {},
   "outputs": [],
   "source": [
    "#Bee CEO and CFO Salaries\n",
    "bee_ceo = bee_total_rev_3yr * CEO\n",
    "bee_cfo = bee_total_rev_3yr * CFO\n",
    "bee_ceo"
   ]
  },
  {
   "cell_type": "code",
   "execution_count": null,
   "id": "c5096bdb-5844-4e19-93e8-7963f7696a24",
   "metadata": {},
   "outputs": [],
   "source": [
    "#Number of Queen CEOs\n",
    "avg_colonies_per_year = honey.loc[honey['state'] == 'United States 6 7']\n",
    "avg_colonies_per_year = avg_colonies_per_year.groupby('year')['honey_producing_colonies_1000s'].sum().reset_index().drop([0])\n",
    "avg_colonies_per_year = avg_colonies_per_year['honey_producing_colonies_1000s'].mean()"
   ]
  },
  {
   "cell_type": "code",
   "execution_count": null,
   "id": "39343e4e-de2a-4aff-a6b0-3fb2e23aec60",
   "metadata": {},
   "outputs": [],
   "source": [
    "#Salary Per Queen\n",
    "shared_ceo_salary = bee_ceo/(avg_colonies_per_year *1000)\n",
    "shared_ceo_salary"
   ]
  },
  {
   "cell_type": "code",
   "execution_count": null,
   "id": "27a43000-988b-47a4-8a37-39c84bc3a099",
   "metadata": {
    "scrolled": true
   },
   "outputs": [],
   "source": [
    "#Actual Queen Value (according to USDA)\n",
    "queenbee_avg_lifetime_value = 20\n",
    "queenbee_avg_working_years = 2\n",
    "queen_cost_per_year = queenbee_avg_lifetime_value / queenbee_avg_working_years\n",
    "\n",
    "#Salary as share of revenue produced\n",
    "(queen_cost_per_year*avg_colonies_per_year*1000)/(bee_total_rev_3yr*1000)\n"
   ]
  }
 ],
 "metadata": {
  "kernelspec": {
   "display_name": "Python [conda env:base] *",
   "language": "python",
   "name": "conda-base-py"
  },
  "language_info": {
   "codemirror_mode": {
    "name": "ipython",
    "version": 3
   },
   "file_extension": ".py",
   "mimetype": "text/x-python",
   "name": "python",
   "nbconvert_exporter": "python",
   "pygments_lexer": "ipython3",
   "version": "3.12.7"
  }
 },
 "nbformat": 4,
 "nbformat_minor": 5
}
