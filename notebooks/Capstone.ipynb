{
 "cells": [
  {
   "cell_type": "markdown",
   "id": "263bf361-66c1-4e1b-a32c-75e532135930",
   "metadata": {},
   "source": [
    "### How would the annual performance reports of honey bees compare to the annual reports released by Bumble? What are the relative strengths and weaknesses of each entity and what opportunities and risks should potential stakeholders be aware of? \n",
    "#### Key Metrics (annually and 3 year average)\n",
    "    Revenue\n",
    "\tRevenue per paying user\n",
    "\tNet earnings\n",
    "    Ebitda/ Annual Profit margin/ Contribution Margin (as a percent)\n",
    "\tMain areas of financial loss\n",
    "#### Other Questions\n",
    "-How would queen bees be compensated if they were paid on similar scale to bumble CEOs (ceo comp data is in bumble proxy report)\n",
    "\n",
    "-How much are the relative workforce costs?\n",
    "\n",
    "-Can we track any seasonality trend (seasonality data is reported in bumble annual report)"
   ]
  },
  {
   "cell_type": "code",
   "execution_count": 2,
   "id": "dca0b89e-9b68-4b9d-b59d-16966e19e698",
   "metadata": {},
   "outputs": [
    {
     "data": {
      "text/plain": [
       "'en_US.UTF-8'"
      ]
     },
     "execution_count": 2,
     "metadata": {},
     "output_type": "execute_result"
    }
   ],
   "source": [
    "#Library setup\n",
    "import pandas as pd\n",
    "import matplotlib.pyplot as plt\n",
    "import seaborn as sns\n",
    "import locale\n",
    "locale.setlocale(locale.LC_NUMERIC, 'en_US.UTF-8')"
   ]
  },
  {
   "cell_type": "markdown",
   "id": "a5ed1b4a-4559-434e-a486-e91a12dfde6d",
   "metadata": {},
   "source": [
    "#### Bumble Inc Metrics"
   ]
  },
  {
   "cell_type": "code",
   "execution_count": 4,
   "id": "3dff68be-b245-40a2-af00-f0905df83b46",
   "metadata": {},
   "outputs": [
    {
     "data": {
      "text/html": [
       "<div>\n",
       "<style scoped>\n",
       "    .dataframe tbody tr th:only-of-type {\n",
       "        vertical-align: middle;\n",
       "    }\n",
       "\n",
       "    .dataframe tbody tr th {\n",
       "        vertical-align: top;\n",
       "    }\n",
       "\n",
       "    .dataframe thead th {\n",
       "        text-align: right;\n",
       "    }\n",
       "</style>\n",
       "<table border=\"1\" class=\"dataframe\">\n",
       "  <thead>\n",
       "    <tr style=\"text-align: right;\">\n",
       "      <th>metric_in_thousands</th>\n",
       "      <th>Revenue</th>\n",
       "      <th>Costofrevenue</th>\n",
       "      <th>Sellingandmarketingexpense</th>\n",
       "      <th>Generalandadministrativeexpense</th>\n",
       "      <th>Productdevelopmentexpense</th>\n",
       "      <th>Depreciationandamortizationexpense</th>\n",
       "      <th>Totaloperatingcostsandexpenses</th>\n",
       "      <th>Operatingearnings(loss)</th>\n",
       "      <th>Interestincome(expense),net</th>\n",
       "      <th>Otherincome(expense),net</th>\n",
       "      <th>Income(loss)beforeincometax</th>\n",
       "      <th>Incometaxbenefit(provision)</th>\n",
       "      <th>Netearnings(loss)</th>\n",
       "      <th>Netearnings(loss)attributabletononcontrollinginterests</th>\n",
       "      <th>Netearnings(loss)attributabletoBumbleInc.shareholders</th>\n",
       "    </tr>\n",
       "  </thead>\n",
       "  <tbody>\n",
       "    <tr>\n",
       "      <th>2023</th>\n",
       "      <td>1051830</td>\n",
       "      <td>307835</td>\n",
       "      <td>270380</td>\n",
       "      <td>221649</td>\n",
       "      <td>130565</td>\n",
       "      <td>68028</td>\n",
       "      <td>998457</td>\n",
       "      <td>53373</td>\n",
       "      <td>-21534</td>\n",
       "      <td>-26537</td>\n",
       "      <td>5302</td>\n",
       "      <td>-7170</td>\n",
       "      <td>-1868</td>\n",
       "      <td>2345</td>\n",
       "      <td>-4213</td>\n",
       "    </tr>\n",
       "    <tr>\n",
       "      <th>2022</th>\n",
       "      <td>903,503</td>\n",
       "      <td>249,490</td>\n",
       "      <td>249,269</td>\n",
       "      <td>308,855</td>\n",
       "      <td>109,020</td>\n",
       "      <td>89,713</td>\n",
       "      <td>1,006,347</td>\n",
       "      <td>-102844</td>\n",
       "      <td>-24,063</td>\n",
       "      <td>16189</td>\n",
       "      <td>-110718</td>\n",
       "      <td>-3406</td>\n",
       "      <td>-114124</td>\n",
       "      <td>-34378</td>\n",
       "      <td>-79746</td>\n",
       "    </tr>\n",
       "    <tr>\n",
       "      <th>2021</th>\n",
       "      <td>760,910</td>\n",
       "      <td>205,573</td>\n",
       "      <td>211,711</td>\n",
       "      <td>257,489</td>\n",
       "      <td>113,764</td>\n",
       "      <td>107,056</td>\n",
       "      <td>895,593</td>\n",
       "      <td>(134,683</td>\n",
       "      <td>-24,574</td>\n",
       "      <td>3,160</td>\n",
       "      <td>-156097</td>\n",
       "      <td>437,837</td>\n",
       "      <td>281,740</td>\n",
       "      <td>-28075</td>\n",
       "      <td>309,815</td>\n",
       "    </tr>\n",
       "  </tbody>\n",
       "</table>\n",
       "</div>"
      ],
      "text/plain": [
       "metric_in_thousands  Revenue Costofrevenue Sellingandmarketingexpense  \\\n",
       "2023                 1051830        307835                     270380   \n",
       "2022                 903,503       249,490                    249,269   \n",
       "2021                 760,910       205,573                    211,711   \n",
       "\n",
       "metric_in_thousands Generalandadministrativeexpense Productdevelopmentexpense  \\\n",
       "2023                                         221649                    130565   \n",
       "2022                                        308,855                   109,020   \n",
       "2021                                        257,489                   113,764   \n",
       "\n",
       "metric_in_thousands Depreciationandamortizationexpense  \\\n",
       "2023                                             68028   \n",
       "2022                                            89,713   \n",
       "2021                                           107,056   \n",
       "\n",
       "metric_in_thousands Totaloperatingcostsandexpenses Operatingearnings(loss)  \\\n",
       "2023                                        998457                   53373   \n",
       "2022                                     1,006,347                 -102844   \n",
       "2021                                       895,593                (134,683   \n",
       "\n",
       "metric_in_thousands Interestincome(expense),net Otherincome(expense),net  \\\n",
       "2023                                     -21534                   -26537   \n",
       "2022                                    -24,063                    16189   \n",
       "2021                                    -24,574                    3,160   \n",
       "\n",
       "metric_in_thousands Income(loss)beforeincometax Incometaxbenefit(provision)  \\\n",
       "2023                                       5302                       -7170   \n",
       "2022                                    -110718                       -3406   \n",
       "2021                                    -156097                     437,837   \n",
       "\n",
       "metric_in_thousands Netearnings(loss)  \\\n",
       "2023                            -1868   \n",
       "2022                          -114124   \n",
       "2021                          281,740   \n",
       "\n",
       "metric_in_thousands Netearnings(loss)attributabletononcontrollinginterests  \\\n",
       "2023                                                              2345       \n",
       "2022                                                            -34378       \n",
       "2021                                                            -28075       \n",
       "\n",
       "metric_in_thousands Netearnings(loss)attributabletoBumbleInc.shareholders  \n",
       "2023                                                             -4213     \n",
       "2022                                                            -79746     \n",
       "2021                                                           309,815     "
      ]
     },
     "execution_count": 4,
     "metadata": {},
     "output_type": "execute_result"
    }
   ],
   "source": [
    "#Read in and clean annual report\n",
    "bb_op_costs23 = pd.read_csv('../data/23operating_costs.csv')\n",
    "bb_op_costs = bb_op_costs23.rename(columns = {'in_thousands': 'metric_in_thousands', 'ye_2023': '2023', 'ye_2022': '2022', 'ye_2021': '2021'})\n",
    "bb_op_costs = bb_op_costs.set_index('metric_in_thousands').transpose()\n",
    "bb_op_costs"
   ]
  },
  {
   "cell_type": "code",
   "execution_count": null,
   "id": "6ad352f3-e373-4c87-99c0-0e6b6e4aa877",
   "metadata": {},
   "outputs": [],
   "source": []
  },
  {
   "cell_type": "code",
   "execution_count": 12,
   "id": "b72fa72a-5c30-4f7f-bc17-65d0a6f5098e",
   "metadata": {},
   "outputs": [
    {
     "name": "stdout",
     "output_type": "stream",
     "text": [
      "1051830.0\n",
      "903503.0\n",
      "760910.0\n"
     ]
    }
   ],
   "source": [
    "#Format revenue values with local to remove commas and cast as float\n",
    "bb_op_costs['Revenue'] = bb_op_costs['Revenue'].astype(str)\n",
    "for value in bb_op_costs['Revenue']:\n",
    "    print(locale.atof(value))"
   ]
  },
  {
   "cell_type": "code",
   "execution_count": null,
   "id": "cdc6265f-6179-45e8-b763-4e7a316c7464",
   "metadata": {},
   "outputs": [],
   "source": [
    "bb_op_costs"
   ]
  },
  {
   "cell_type": "markdown",
   "id": "4fc98c7b-08b7-4dfe-9195-bb6da6f01955",
   "metadata": {},
   "source": [
    "for ind, row in people_df.iterrows():\n",
    "    if row['sibling_count'] == 0:\n",
    "        people_df.loc[ind, 'birth_category'] = 'only'"
   ]
  }
 ],
 "metadata": {
  "kernelspec": {
   "display_name": "Python 3 (ipykernel)",
   "language": "python",
   "name": "python3"
  },
  "language_info": {
   "codemirror_mode": {
    "name": "ipython",
    "version": 3
   },
   "file_extension": ".py",
   "mimetype": "text/x-python",
   "name": "python",
   "nbconvert_exporter": "python",
   "pygments_lexer": "ipython3",
   "version": "3.12.4"
  }
 },
 "nbformat": 4,
 "nbformat_minor": 5
}
